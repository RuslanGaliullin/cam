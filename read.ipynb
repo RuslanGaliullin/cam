{
 "cells": [
  {
   "cell_type": "code",
   "execution_count": 24,
   "metadata": {},
   "outputs": [
    {
     "name": "stdout",
     "output_type": "stream",
     "text": [
      "<class 'pandas.core.frame.DataFrame'>\n",
      "RangeIndex: 60935 entries, 0 to 60934\n",
      "Data columns (total 25 columns):\n",
      " #   Column     Non-Null Count  Dtype  \n",
      "---  ------     --------------  -----  \n",
      " 0   repo       60935 non-null  object \n",
      " 1   java_file  60935 non-null  object \n",
      " 2   acoco      60935 non-null  object \n",
      " 3   CAMC       60935 non-null  object \n",
      " 4   CAMC-cvc   60935 non-null  object \n",
      " 5   cc         60935 non-null  object \n",
      " 6   coco       60935 non-null  object \n",
      " 7   fout       60935 non-null  int64  \n",
      " 8   hsd        60935 non-null  float64\n",
      " 9   hse        60935 non-null  float64\n",
      " 10  hsv        60935 non-null  float64\n",
      " 11  LCOM5      60935 non-null  object \n",
      " 12  LCOM5-cvc  60935 non-null  object \n",
      " 13  loc        60935 non-null  int64  \n",
      " 14  midx       60935 non-null  float64\n",
      " 15  MMAC       60935 non-null  object \n",
      " 16  MMAC-cvc   60935 non-null  object \n",
      " 17  mncoco     60935 non-null  object \n",
      " 18  mxcoco     60935 non-null  object \n",
      " 19  NHD        60935 non-null  object \n",
      " 20  NHD-cvc    60935 non-null  object \n",
      " 21  nobl       60935 non-null  int64  \n",
      " 22  nocl       60935 non-null  int64  \n",
      " 23  SCOM       60935 non-null  object \n",
      " 24  SCOM-cvc   60935 non-null  object \n",
      "dtypes: float64(4), int64(4), object(17)\n",
      "memory usage: 11.6+ MB\n"
     ]
    }
   ],
   "source": [
    "import pandas as pd\n",
    "import numpy as np\n",
    "\n",
    "df = pd.read_csv(\"./data/all.csv\")\n",
    "df.info()"
   ]
  },
  {
   "cell_type": "code",
   "execution_count": 10,
   "metadata": {},
   "outputs": [
    {
     "data": {
      "text/html": [
       "<div>\n",
       "<style scoped>\n",
       "    .dataframe tbody tr th:only-of-type {\n",
       "        vertical-align: middle;\n",
       "    }\n",
       "\n",
       "    .dataframe tbody tr th {\n",
       "        vertical-align: top;\n",
       "    }\n",
       "\n",
       "    .dataframe thead th {\n",
       "        text-align: right;\n",
       "    }\n",
       "</style>\n",
       "<table border=\"1\" class=\"dataframe\">\n",
       "  <thead>\n",
       "    <tr style=\"text-align: right;\">\n",
       "      <th></th>\n",
       "      <th>java_file</th>\n",
       "      <th>cc</th>\n",
       "      <th>nobl</th>\n",
       "    </tr>\n",
       "  </thead>\n",
       "  <tbody>\n",
       "    <tr>\n",
       "      <th>0</th>\n",
       "      <td>/dsl/camel-jbang/camel-jbang-console/src/main/...</td>\n",
       "      <td>2</td>\n",
       "      <td>2</td>\n",
       "    </tr>\n",
       "    <tr>\n",
       "      <th>1</th>\n",
       "      <td>/dsl/camel-jbang/camel-jbang-console/src/main/...</td>\n",
       "      <td>16</td>\n",
       "      <td>2</td>\n",
       "    </tr>\n",
       "    <tr>\n",
       "      <th>2</th>\n",
       "      <td>/dsl/camel-jbang/camel-jbang-console/src/main/...</td>\n",
       "      <td>19</td>\n",
       "      <td>3</td>\n",
       "    </tr>\n",
       "    <tr>\n",
       "      <th>3</th>\n",
       "      <td>/dsl/camel-jbang/camel-jbang-console/src/main/...</td>\n",
       "      <td>2</td>\n",
       "      <td>0</td>\n",
       "    </tr>\n",
       "    <tr>\n",
       "      <th>4</th>\n",
       "      <td>/dsl/camel-jbang/camel-jbang-console/src/main/...</td>\n",
       "      <td>4</td>\n",
       "      <td>0</td>\n",
       "    </tr>\n",
       "    <tr>\n",
       "      <th>...</th>\n",
       "      <td>...</td>\n",
       "      <td>...</td>\n",
       "      <td>...</td>\n",
       "    </tr>\n",
       "    <tr>\n",
       "      <th>60930</th>\n",
       "      <td>/components/camel-ssh/src/main/java/org/apache...</td>\n",
       "      <td>1</td>\n",
       "      <td>0</td>\n",
       "    </tr>\n",
       "    <tr>\n",
       "      <th>60931</th>\n",
       "      <td>/components/camel-ssh/src/main/java/org/apache...</td>\n",
       "      <td>1</td>\n",
       "      <td>0</td>\n",
       "    </tr>\n",
       "    <tr>\n",
       "      <th>60932</th>\n",
       "      <td>/components/camel-ssh/src/main/java/org/apache...</td>\n",
       "      <td>1</td>\n",
       "      <td>0</td>\n",
       "    </tr>\n",
       "    <tr>\n",
       "      <th>60933</th>\n",
       "      <td>/components/camel-ssh/src/main/java/org/apache...</td>\n",
       "      <td>1</td>\n",
       "      <td>0</td>\n",
       "    </tr>\n",
       "    <tr>\n",
       "      <th>60934</th>\n",
       "      <td>/components/camel-ssh/src/main/java/org/apache...</td>\n",
       "      <td>1</td>\n",
       "      <td>0</td>\n",
       "    </tr>\n",
       "  </tbody>\n",
       "</table>\n",
       "<p>60935 rows × 3 columns</p>\n",
       "</div>"
      ],
      "text/plain": [
       "                                               java_file  cc  nobl\n",
       "0      /dsl/camel-jbang/camel-jbang-console/src/main/...   2     2\n",
       "1      /dsl/camel-jbang/camel-jbang-console/src/main/...  16     2\n",
       "2      /dsl/camel-jbang/camel-jbang-console/src/main/...  19     3\n",
       "3      /dsl/camel-jbang/camel-jbang-console/src/main/...   2     0\n",
       "4      /dsl/camel-jbang/camel-jbang-console/src/main/...   4     0\n",
       "...                                                  ...  ..   ...\n",
       "60930  /components/camel-ssh/src/main/java/org/apache...   1     0\n",
       "60931  /components/camel-ssh/src/main/java/org/apache...   1     0\n",
       "60932  /components/camel-ssh/src/main/java/org/apache...   1     0\n",
       "60933  /components/camel-ssh/src/main/java/org/apache...   1     0\n",
       "60934  /components/camel-ssh/src/main/java/org/apache...   1     0\n",
       "\n",
       "[60935 rows x 3 columns]"
      ]
     },
     "execution_count": 10,
     "metadata": {},
     "output_type": "execute_result"
    }
   ],
   "source": [
    "df[[\"java_file\", \"cc\", \"nobl\"]]"
   ]
  },
  {
   "cell_type": "code",
   "execution_count": 11,
   "metadata": {},
   "outputs": [
    {
     "data": {
      "text/plain": [
       "False"
      ]
     },
     "execution_count": 11,
     "metadata": {},
     "output_type": "execute_result"
    }
   ],
   "source": [
    "df[[\"java_file\", \"cc\", \"nobl\", \"coco\"]].isnull().any().any()"
   ]
  },
  {
   "cell_type": "code",
   "execution_count": 17,
   "metadata": {},
   "outputs": [
    {
     "data": {
      "text/plain": [
       "array([ 2,  3,  0,  7,  5,  1,  4,  9,  6,  8, 31, 14, 10, 12, 25, 20, 38,\n",
       "       18, 13, 21, 11, 15, 16, 19, 34, 23, 22, 58, 17, 28, 37, 26, 60, 50,\n",
       "       24])"
      ]
     },
     "execution_count": 17,
     "metadata": {},
     "output_type": "execute_result"
    }
   ],
   "source": [
    "df[\"nobl\"].unique()"
   ]
  },
  {
   "cell_type": "code",
   "execution_count": 21,
   "metadata": {},
   "outputs": [
    {
     "name": "stderr",
     "output_type": "stream",
     "text": [
      "/tmp/ipykernel_2378/1727222335.py:2: SettingWithCopyWarning: \n",
      "A value is trying to be set on a copy of a slice from a DataFrame.\n",
      "Try using .loc[row_indexer,col_indexer] = value instead\n",
      "\n",
      "See the caveats in the documentation: https://pandas.pydata.org/pandas-docs/stable/user_guide/indexing.html#returning-a-view-versus-a-copy\n",
      "  filtered_df[\"cc\"] = filtered_df[\"cc\"].astype(int)\n",
      "/tmp/ipykernel_2378/1727222335.py:3: SettingWithCopyWarning: \n",
      "A value is trying to be set on a copy of a slice from a DataFrame.\n",
      "Try using .loc[row_indexer,col_indexer] = value instead\n",
      "\n",
      "See the caveats in the documentation: https://pandas.pydata.org/pandas-docs/stable/user_guide/indexing.html#returning-a-view-versus-a-copy\n",
      "  filtered_df[\"nobl\"] = filtered_df[\"nobl\"].astype(int)\n",
      "/tmp/ipykernel_2378/1727222335.py:4: SettingWithCopyWarning: \n",
      "A value is trying to be set on a copy of a slice from a DataFrame.\n",
      "Try using .loc[row_indexer,col_indexer] = value instead\n",
      "\n",
      "See the caveats in the documentation: https://pandas.pydata.org/pandas-docs/stable/user_guide/indexing.html#returning-a-view-versus-a-copy\n",
      "  filtered_df[\"hsd\"] = filtered_df[\"hsd\"].astype(int)\n"
     ]
    },
    {
     "data": {
      "text/html": [
       "<div>\n",
       "<style scoped>\n",
       "    .dataframe tbody tr th:only-of-type {\n",
       "        vertical-align: middle;\n",
       "    }\n",
       "\n",
       "    .dataframe tbody tr th {\n",
       "        vertical-align: top;\n",
       "    }\n",
       "\n",
       "    .dataframe thead th {\n",
       "        text-align: right;\n",
       "    }\n",
       "</style>\n",
       "<table border=\"1\" class=\"dataframe\">\n",
       "  <thead>\n",
       "    <tr style=\"text-align: right;\">\n",
       "      <th></th>\n",
       "      <th>nobl</th>\n",
       "      <th>cc</th>\n",
       "      <th>hsd</th>\n",
       "    </tr>\n",
       "  </thead>\n",
       "  <tbody>\n",
       "    <tr>\n",
       "      <th>nobl</th>\n",
       "      <td>1.000000</td>\n",
       "      <td>0.219787</td>\n",
       "      <td>0.408300</td>\n",
       "    </tr>\n",
       "    <tr>\n",
       "      <th>cc</th>\n",
       "      <td>0.219787</td>\n",
       "      <td>1.000000</td>\n",
       "      <td>0.479612</td>\n",
       "    </tr>\n",
       "    <tr>\n",
       "      <th>hsd</th>\n",
       "      <td>0.408300</td>\n",
       "      <td>0.479612</td>\n",
       "      <td>1.000000</td>\n",
       "    </tr>\n",
       "  </tbody>\n",
       "</table>\n",
       "</div>"
      ],
      "text/plain": [
       "          nobl        cc       hsd\n",
       "nobl  1.000000  0.219787  0.408300\n",
       "cc    0.219787  1.000000  0.479612\n",
       "hsd   0.408300  0.479612  1.000000"
      ]
     },
     "execution_count": 21,
     "metadata": {},
     "output_type": "execute_result"
    }
   ],
   "source": [
    "filtered_df = df[df[\"cc\"].notna() & (df[\"cc\"] != '-') & df[\"nobl\"].notna() & (df[\"nobl\"] != '-')]\n",
    "filtered_df[\"cc\"] = filtered_df[\"cc\"].astype(int)\n",
    "filtered_df[\"nobl\"] = filtered_df[\"nobl\"].astype(int)\n",
    "filtered_df[\"hsd\"] = filtered_df[\"hsd\"].astype(int)\n",
    "filtered_df[[\"nobl\", \"cc\", \"hsd\"]].corr()"
   ]
  },
  {
   "cell_type": "code",
   "execution_count": 25,
   "metadata": {},
   "outputs": [
    {
     "data": {
      "image/png": "[encoded data removed]",
      "text/plain": [
       "<Figure size 640x480 with 1 Axes>"
      ]
     },
     "metadata": {},
     "output_type": "display_data"
    }
   ],
   "source": [
    "import matplotlib.pyplot as plt\n",
    "\n",
    "plt.scatter(filtered_df[\"nobl\"], filtered_df[\"coco\"])\n",
    "plt.xlabel(\"nobl\")  # Label for the x-axis\n",
    "plt.ylabel(\"cc\")    # Label for the y-axis\n",
    "plt.ylim(ymin=0, ymax=200) \n",
    "plt.title(\"Scatter Plot of nobl vs cc\")\n",
    "plt.show()"
   ]
  },
  {
   "cell_type": "markdown",
   "metadata": {},
   "source": []
  },
  {
   "cell_type": "code",
   "execution_count": null,
   "metadata": {},
   "outputs": [],
   "source": []
  }
 ],
 "metadata": {
  "kernelspec": {
   "display_name": ".venv",
   "language": "python",
   "name": "python3"
  },
  "language_info": {
   "codemirror_mode": {
    "name": "ipython",
    "version": 3
   },
   "file_extension": ".py",
   "mimetype": "text/x-python",
   "name": "python",
   "nbconvert_exporter": "python",
   "pygments_lexer": "ipython3",
   "version": "3.10.12"
  }
 },
 "nbformat": 4,
 "nbformat_minor": 2
}
