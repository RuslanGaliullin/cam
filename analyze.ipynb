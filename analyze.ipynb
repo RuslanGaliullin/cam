{
 "cells": [
  {
   "cell_type": "code",
   "execution_count": 2,
   "metadata": {},
   "outputs": [],
   "source": [
    "import matplotlib.pyplot as plt\n",
    "import seaborn as sns\n",
    "import pandas as pd\n",
    "import pingouin as pg\n",
    "import numpy as np\n",
    "from scipy.stats import spearmanr\n",
    "import os\n",
    "import shutil\n",
    "from tqdm import tqdm\n",
    "import random\n",
    "from scipy import stats\n",
    "from sklearn.preprocessing import MinMaxScaler\n",
    "from sklearn.cluster import KMeans\n",
    "from sklearn.linear_model import LinearRegression\n"
   ]
  },
  {
   "cell_type": "markdown",
   "metadata": {},
   "source": [
    "## Load all collected data from csv file"
   ]
  },
  {
   "cell_type": "markdown",
   "metadata": {},
   "source": [
    "#### Firstly, load file with summary metrics with repo and source code files"
   ]
  },
  {
   "cell_type": "code",
   "execution_count": 3,
   "metadata": {},
   "outputs": [
    {
     "name": "stderr",
     "output_type": "stream",
     "text": [
      "/var/folders/_7/w61_y6mj5bgdr26d9sk7tmps8zhr5b/T/ipykernel_1627/3946247047.py:2: DtypeWarning: Columns (15,23) have mixed types. Specify dtype option on import or set low_memory=False.\n",
      "  origin_all_data = pd.read_csv(absolute_file_path)\n"
     ]
    }
   ],
   "source": [
    "absolute_file_path = '/Users/rmgaliullin/cam_data_600k/data/all.csv'\n",
    "origin_all_data = pd.read_csv(absolute_file_path)"
   ]
  },
  {
   "cell_type": "markdown",
   "metadata": {},
   "source": [
    "#### Secondly, get files from each repo separetaly and mearch with comman table"
   ]
  },
  {
   "cell_type": "code",
   "execution_count": 4,
   "metadata": {},
   "outputs": [],
   "source": [
    "df = origin_all_data[[\"repo\", \"java_file\"]]\n",
    "columns = ['cc', 'nobl', 'loc', 'hse', 'hsd', 'hsv', 'coco', 'midx', 'nocl']\n",
    "\n",
    "merged_df = df.copy()\n",
    "for i in columns:\n",
    "    temp = pd.read_csv(f\"/Users/rmgaliullin/cam_data_600k/data/{i}.csv\")\n",
    "    temp = temp.drop_duplicates(['repo', 'java_file'])\n",
    "    merged_df = pd.merge(merged_df, temp, on=['repo', 'java_file'], how='inner')"
   ]
  },
  {
   "cell_type": "code",
   "execution_count": 5,
   "metadata": {},
   "outputs": [
    {
     "name": "stdout",
     "output_type": "stream",
     "text": [
      "<class 'pandas.core.frame.DataFrame'>\n",
      "RangeIndex: 606000 entries, 0 to 605999\n",
      "Data columns (total 11 columns):\n",
      " #   Column     Non-Null Count   Dtype  \n",
      "---  ------     --------------   -----  \n",
      " 0   repo       606000 non-null  object \n",
      " 1   java_file  606000 non-null  object \n",
      " 2   cc         606000 non-null  int64  \n",
      " 3   nobl       606000 non-null  int64  \n",
      " 4   loc        606000 non-null  int64  \n",
      " 5   hse        606000 non-null  float64\n",
      " 6   hsd        606000 non-null  float64\n",
      " 7   hsv        606000 non-null  float64\n",
      " 8   coco       606000 non-null  int64  \n",
      " 9   midx       606000 non-null  float64\n",
      " 10  nocl       606000 non-null  int64  \n",
      "dtypes: float64(4), int64(5), object(2)\n",
      "memory usage: 50.9+ MB\n"
     ]
    }
   ],
   "source": [
    "merged_df.info()"
   ]
  },
  {
   "cell_type": "markdown",
   "metadata": {},
   "source": [
    "#### Validate that concatenated repo data is equal to data in all-data table (drop test repo \"yegor256/jaxec\")"
   ]
  },
  {
   "cell_type": "code",
   "execution_count": 6,
   "metadata": {},
   "outputs": [],
   "source": [
    "joint_values = pd.merge(origin_all_data, merged_df, on=['repo', 'java_file'], suffixes=('_df1', '_df2'), how='right')\n",
    "joint_values = joint_values[joint_values['repo'] != 'yegor256/jaxec']\n",
    "\n",
    "assert (joint_values['cc_df1'].astype(int) == joint_values['cc_df2']).all()\n",
    "assert (joint_values['coco_df1'].astype(int) == joint_values['coco_df2']).all()\n",
    "assert (joint_values['hsv_df1'].astype(float) == joint_values['hsv_df2']).all()\n",
    "assert (joint_values['hse_df1'].astype(float) == joint_values['hse_df2']).all()\n",
    "assert (joint_values['hsd_df1'].astype(float) == joint_values['hsd_df2']).all()\n",
    "assert (joint_values['loc_df1'].astype(int) == joint_values['loc_df2']).all()\n",
    "assert (joint_values['nobl_df1'].astype(int) == joint_values['nobl_df2']).all()\n",
    "assert (joint_values['midx_df1'].astype(float) == joint_values['midx_df2']).all()\n",
    "assert (joint_values['nocl_df1'].astype(int) == joint_values['nocl_df2']).all()\n",
    "\n",
    "merged_df = merged_df[merged_df['repo'] != 'yegor256/jaxec']"
   ]
  },
  {
   "cell_type": "code",
   "execution_count": 7,
   "metadata": {},
   "outputs": [
    {
     "name": "stdout",
     "output_type": "stream",
     "text": [
      "<class 'pandas.core.frame.DataFrame'>\n",
      "Index: 605966 entries, 17 to 605999\n",
      "Data columns (total 11 columns):\n",
      " #   Column     Non-Null Count   Dtype  \n",
      "---  ------     --------------   -----  \n",
      " 0   repo       605966 non-null  object \n",
      " 1   java_file  605966 non-null  object \n",
      " 2   cc         605966 non-null  int64  \n",
      " 3   nobl       605966 non-null  int64  \n",
      " 4   loc        605966 non-null  int64  \n",
      " 5   hse        605966 non-null  float64\n",
      " 6   hsd        605966 non-null  float64\n",
      " 7   hsv        605966 non-null  float64\n",
      " 8   coco       605966 non-null  int64  \n",
      " 9   midx       605966 non-null  float64\n",
      " 10  nocl       605966 non-null  int64  \n",
      "dtypes: float64(4), int64(5), object(2)\n",
      "memory usage: 55.5+ MB\n"
     ]
    }
   ],
   "source": [
    "result_df = merged_df.copy()\n",
    "result_df.info()"
   ]
  },
  {
   "cell_type": "markdown",
   "metadata": {},
   "source": [
    "## Reorgonize collected data"
   ]
  },
  {
   "cell_type": "markdown",
   "metadata": {},
   "source": [
    "#### Exclude 2 lines of the signuter and of the last \"\\}\" in order to work only with **body** of the method"
   ]
  },
  {
   "cell_type": "code",
   "execution_count": 8,
   "metadata": {},
   "outputs": [],
   "source": [
    "result_df['loc'] = (result_df['loc'] - 2).clip(lower=0)"
   ]
  },
  {
   "cell_type": "markdown",
   "metadata": {},
   "source": [
    "#### Add column with blank line ratio (aka bl_ratio) = nobl / loc, and comment line ratio (aka cl_ratio) = nocl / loc,"
   ]
  },
  {
   "cell_type": "code",
   "execution_count": 9,
   "metadata": {},
   "outputs": [],
   "source": [
    "result_df.loc[:, \"bl_ratio\"] = result_df[\"nobl\"] / result_df[\"loc\"]\n",
    "result_df.loc[:, \"cl_ratio\"] = result_df[\"nocl\"] / result_df[\"loc\"]"
   ]
  },
  {
   "cell_type": "markdown",
   "metadata": {},
   "source": [
    "### Split dataset into 3 groups:\n",
    "- _group A_ (aka subset_df) - all methods\n",
    "- _group B_ (aka subset_df_3_40) - methods with 1 $\\lt$ LoC $\\le$ 42\n",
    "- _group C_ (aka subset_df_3_40_with_non_zero_bl) methods with 1 $\\lt$ LoC $\\le$ 42 and NoBL $\\gt$ 0"
   ]
  },
  {
   "cell_type": "code",
   "execution_count": 10,
   "metadata": {},
   "outputs": [
    {
     "name": "stderr",
     "output_type": "stream",
     "text": [
      "/var/folders/_7/w61_y6mj5bgdr26d9sk7tmps8zhr5b/T/ipykernel_1627/567013462.py:5: UserWarning: Boolean Series key will be reindexed to match DataFrame index.\n",
      "  subset_df_3_40_with_non_zero_bl = subset_df_3_40[(subset_df['nobl'] > 1)]\n"
     ]
    }
   ],
   "source": [
    "# Extract the relevant columns\n",
    "selected_columns = ['cc', 'nobl', 'loc', 'hse', 'hsd', 'hsv', 'coco', 'midx', 'nocl', 'bl_ratio', 'cl_ratio']\n",
    "subset_df = result_df[selected_columns]\n",
    "subset_df_3_40 = subset_df[(subset_df['loc'] <= 42) & (subset_df['loc'] > 1)]\n",
    "subset_df_3_40_with_non_zero_bl = subset_df_3_40[(subset_df['nobl'] > 1)]"
   ]
  },
  {
   "cell_type": "markdown",
   "metadata": {},
   "source": [
    "#### Build additional set of the same groups with more coonditions\n",
    "- nobl_[subset_df, subset_df_3_40, subset_df_3_40_with_non_zero_bl] - same groups A, B, and C without column bl_ratio\n",
    "- robl_[subset_df, subset_df_3_40, subset_df_3_40_with_non_zero_bl] - same groups A, B, and C without column nobl and **finite**, **not null** bl_ratio values"
   ]
  },
  {
   "cell_type": "code",
   "execution_count": 11,
   "metadata": {},
   "outputs": [
    {
     "name": "stdout",
     "output_type": "stream",
     "text": [
      "<class 'pandas.core.frame.DataFrame'>\n",
      "Index: 605966 entries, 17 to 605999\n",
      "Data columns (total 10 columns):\n",
      " #   Column    Non-Null Count   Dtype  \n",
      "---  ------    --------------   -----  \n",
      " 0   cc        605966 non-null  int64  \n",
      " 1   nobl      605966 non-null  int64  \n",
      " 2   loc       605966 non-null  int64  \n",
      " 3   hse       605966 non-null  float64\n",
      " 4   hsd       605966 non-null  float64\n",
      " 5   hsv       605966 non-null  float64\n",
      " 6   coco      605966 non-null  int64  \n",
      " 7   midx      605966 non-null  float64\n",
      " 8   nocl      605966 non-null  int64  \n",
      " 9   cl_ratio  585613 non-null  float64\n",
      "dtypes: float64(5), int64(5)\n",
      "memory usage: 67.0 MB\n"
     ]
    }
   ],
   "source": [
    "nobl_subset_df = subset_df.drop(columns=['bl_ratio'], errors='ignore')\n",
    "nobl_subset_df_3_40 = subset_df_3_40.drop(columns=['bl_ratio'], errors='ignore')\n",
    "nobl_subset_df_3_40_with_non_zero_bl = subset_df_3_40_with_non_zero_bl.drop(columns=['bl_ratio'], errors='ignore')\n",
    "nobl_subset_df.info()"
   ]
  },
  {
   "cell_type": "code",
   "execution_count": 12,
   "metadata": {},
   "outputs": [
    {
     "name": "stdout",
     "output_type": "stream",
     "text": [
      "<class 'pandas.core.frame.DataFrame'>\n",
      "Index: 581948 entries, 18 to 605999\n",
      "Data columns (total 10 columns):\n",
      " #   Column    Non-Null Count   Dtype  \n",
      "---  ------    --------------   -----  \n",
      " 0   cc        581948 non-null  int64  \n",
      " 1   loc       581948 non-null  int64  \n",
      " 2   hse       581948 non-null  float64\n",
      " 3   hsd       581948 non-null  float64\n",
      " 4   hsv       581948 non-null  float64\n",
      " 5   coco      581948 non-null  int64  \n",
      " 6   midx      581948 non-null  float64\n",
      " 7   nocl      581948 non-null  int64  \n",
      " 8   bl_ratio  581948 non-null  float64\n",
      " 9   cl_ratio  581948 non-null  float64\n",
      "dtypes: float64(6), int64(4)\n",
      "memory usage: 48.8 MB\n"
     ]
    },
    {
     "name": "stderr",
     "output_type": "stream",
     "text": [
      "/var/folders/_7/w61_y6mj5bgdr26d9sk7tmps8zhr5b/T/ipykernel_1627/3571949685.py:2: UserWarning: Boolean Series key will be reindexed to match DataFrame index.\n",
      "  robl_subset_df_3_40 = subset_df_3_40[np.isfinite(result_df['bl_ratio']) & ~result_df['bl_ratio'].isna()].drop(columns=['nobl'], errors='ignore')\n",
      "/var/folders/_7/w61_y6mj5bgdr26d9sk7tmps8zhr5b/T/ipykernel_1627/3571949685.py:3: UserWarning: Boolean Series key will be reindexed to match DataFrame index.\n",
      "  robl_subset_df_3_40_with_non_zero_bl = subset_df_3_40_with_non_zero_bl[np.isfinite(result_df['bl_ratio']) & ~result_df['bl_ratio'].isna()].drop(columns=['nobl'], errors='ignore')\n"
     ]
    }
   ],
   "source": [
    "robl_subset_df = subset_df[np.isfinite(result_df['bl_ratio']) & ~result_df['bl_ratio'].isna()].drop(columns=['nobl'], errors='ignore')\n",
    "robl_subset_df_3_40 = subset_df_3_40[np.isfinite(result_df['bl_ratio']) & ~result_df['bl_ratio'].isna()].drop(columns=['nobl'], errors='ignore')\n",
    "robl_subset_df_3_40_with_non_zero_bl = subset_df_3_40_with_non_zero_bl[np.isfinite(result_df['bl_ratio']) & ~result_df['bl_ratio'].isna()].drop(columns=['nobl'], errors='ignore')\n",
    "robl_subset_df.info()"
   ]
  },
  {
   "cell_type": "markdown",
   "metadata": {},
   "source": [
    "## Extracting information from data"
   ]
  },
  {
   "cell_type": "markdown",
   "metadata": {},
   "source": [
    "#### Build distribution plots for several complexition metrics between each group"
   ]
  },
  {
   "cell_type": "code",
   "execution_count": 13,
   "metadata": {},
   "outputs": [],
   "source": [
    "def build_box_plot(metric, group_A, group_B, group_C, axis, bottom, top):\n",
    "    data_A = group_A[[metric]].assign(Type=\"any method\")\n",
    "    data_B = group_B[[metric]].assign(Type=\"any NOBL\")\n",
    "    data_C = group_C[[metric]].assign(Type=\"NOBL = 0\")\n",
    "\n",
    "    # Concatenate the two subsets\n",
    "    result_df = pd.concat([data_A, data_B, data_C], ignore_index=True)\n",
    "\n",
    "    # Add another box plot for 'hsd' column where 'nobl' == 0 on the same axis\n",
    "    sns.boxplot(data=result_df, y=metric, hue=\"Type\")\n",
    "\n",
    "    # Set labels and title\n",
    "    axis.set_ylim(bottom=bottom, top=top) \n",
    "    axis.set_ylabel(metric.upper(), fontdict={'size':30, 'font':'times new roman'})\n",
    "    axis.tick_params(labelsize=23)\n",
    "    \n",
    "    axis.set_xticks([]) \n",
    "    axis.get_legend().remove()"
   ]
  },
  {
   "cell_type": "code",
   "execution_count": 14,
   "metadata": {},
   "outputs": [
    {
     "data": {
      "image/png": "[encoded data removed]",
      "text/plain": [
       "<Figure size 1000x600 with 1 Axes>"
      ]
     },
     "metadata": {},
     "output_type": "display_data"
    }
   ],
   "source": [
    "_, ax = plt.subplots(figsize=(10, 6))\n",
    "build_box_plot('hse', subset_df, subset_df_3_40, subset_df_3_40_with_non_zero_bl, ax, bottom=-1000, top=80000)\n",
    "plt.show()"
   ]
  },
  {
   "cell_type": "code",
   "execution_count": 15,
   "metadata": {},
   "outputs": [
    {
     "data": {
      "image/png": "[encoded data removed]",
      "text/plain": [
       "<Figure size 1000x600 with 1 Axes>"
      ]
     },
     "metadata": {},
     "output_type": "display_data"
    }
   ],
   "source": [
    "_, ax = plt.subplots(figsize=(10, 6))\n",
    "build_box_plot('hsv', subset_df, subset_df_3_40, subset_df_3_40_with_non_zero_bl, ax, bottom=-1000, top=15000)\n",
    "plt.show()"
   ]
  },
  {
   "cell_type": "code",
   "execution_count": 16,
   "metadata": {},
   "outputs": [
    {
     "data": {
      "image/png": "[encoded data removed]",
      "text/plain": [
       "<Figure size 1000x600 with 1 Axes>"
      ]
     },
     "metadata": {},
     "output_type": "display_data"
    }
   ],
   "source": [
    "_, ax = plt.subplots(figsize=(10, 6))\n",
    "build_box_plot('hsd', subset_df, subset_df_3_40, subset_df_3_40_with_non_zero_bl, ax, bottom=-10, top=200)\n",
    "plt.show()"
   ]
  },
  {
   "cell_type": "code",
   "execution_count": 17,
   "metadata": {},
   "outputs": [
    {
     "data": {
      "image/png": "[encoded data removed]",
      "text/plain": [
       "<Figure size 1000x600 with 1 Axes>"
      ]
     },
     "metadata": {},
     "output_type": "display_data"
    }
   ],
   "source": [
    "_, ax = plt.subplots(figsize=(10, 6))\n",
    "build_box_plot('cc', subset_df, subset_df_3_40, subset_df_3_40_with_non_zero_bl, ax, bottom=-10, top=60)\n",
    "plt.show()"
   ]
  },
  {
   "cell_type": "markdown",
   "metadata": {},
   "source": [
    "## Building .dat files for paper plots"
   ]
  },
  {
   "cell_type": "code",
   "execution_count": 57,
   "metadata": {},
   "outputs": [],
   "source": [
    "def cluster_and_summarize(df, col1, col2, n_clusters):\n",
    "    scaler = MinMaxScaler()\n",
    "    df[[f'{col1}_norm', f'{col2}_norm']] = scaler.fit_transform(df[[col1, col2]])\n",
    "\n",
    "    kmeans = KMeans(n_clusters=n_clusters, random_state=0)\n",
    "    df['cluster'] = kmeans.fit_predict(df[[f'{col1}_norm', f'{col2}_norm']])\n",
    "\n",
    "    cluster_info = df.groupby('cluster').agg(\n",
    "        count=('cluster', 'size'),\n",
    "        **{f'{col1}': (col1, 'mean'), f'{col2}': (col2, 'mean')}\n",
    "    ).reset_index()\n",
    "    \n",
    "    cluster_info = cluster_info.drop(columns=['cluster'])\n",
    "\n",
    "    return cluster_info"
   ]
  },
  {
   "cell_type": "markdown",
   "metadata": {},
   "source": [
    "### Generate data in csv-files"
   ]
  },
  {
   "cell_type": "code",
   "execution_count": 58,
   "metadata": {},
   "outputs": [],
   "source": [
    "force_rewrite_data = True\n",
    "\n",
    "metrix_mapping = {'bl_ratio':'robl', 'cl_ratio':'rocl', 'nocl':'ncl', 'hse':'hse', 'hsd':'hsd', 'hsv':'hsv'}\n",
    "data = {'groupA': nobl_subset_df}\n",
    "distance_by_metric = {'cc': 0, 'loc':0.01, 'hse':30, 'hsd':0.1, 'hsv': 4.3, 'coco': 0, 'midx': 0.09}\n",
    "step_by_metric = {'cc': 1.1, 'loc':1.1, 'hse':1.1, 'hsd': 1.2, 'hsv': 1.01, 'coco': 1.1, 'midx': 1.1}"
   ]
  },
  {
   "cell_type": "code",
   "execution_count": 59,
   "metadata": {},
   "outputs": [
    {
     "name": "stderr",
     "output_type": "stream",
     "text": [
      " 17%|█▋        | 1/6 [00:55<04:39, 55.92s/it]"
     ]
    },
    {
     "name": "stdout",
     "output_type": "stream",
     "text": [
      "Done NOBL loc number of points is 2000 in group groupA. It is more False than was\n"
     ]
    },
    {
     "name": "stderr",
     "output_type": "stream",
     "text": [
      " 33%|███▎      | 2/6 [01:44<03:27, 51.81s/it]"
     ]
    },
    {
     "name": "stdout",
     "output_type": "stream",
     "text": [
      "Done NOBL hse number of points is 2000 in group groupA. It is more False than was\n"
     ]
    },
    {
     "name": "stderr",
     "output_type": "stream",
     "text": [
      " 50%|█████     | 3/6 [02:41<02:42, 54.02s/it]"
     ]
    },
    {
     "name": "stdout",
     "output_type": "stream",
     "text": [
      "Done NOBL hsd number of points is 2000 in group groupA. It is more False than was\n"
     ]
    },
    {
     "name": "stderr",
     "output_type": "stream",
     "text": [
      " 67%|██████▋   | 4/6 [03:30<01:43, 51.98s/it]"
     ]
    },
    {
     "name": "stdout",
     "output_type": "stream",
     "text": [
      "Done NOBL hsv number of points is 2000 in group groupA. It is more False than was\n"
     ]
    },
    {
     "name": "stderr",
     "output_type": "stream",
     "text": [
      " 83%|████████▎ | 5/6 [04:16<00:49, 49.91s/it]"
     ]
    },
    {
     "name": "stdout",
     "output_type": "stream",
     "text": [
      "Done NOBL coco number of points is 2000 in group groupA. It is more False than was\n"
     ]
    },
    {
     "name": "stderr",
     "output_type": "stream",
     "text": [
      "100%|██████████| 6/6 [05:13<00:00, 52.21s/it]"
     ]
    },
    {
     "name": "stdout",
     "output_type": "stream",
     "text": [
      "Done NOBL midx number of points is 2000 in group groupA. It is more False than was\n"
     ]
    },
    {
     "name": "stderr",
     "output_type": "stream",
     "text": [
      "\n"
     ]
    }
   ],
   "source": [
    "\n",
    "for i in tqdm(['loc', 'hse', 'hsd', 'hsv', 'coco', 'midx']):\n",
    "    for group, subset in data.items():\n",
    "        if i == 'nobl':\n",
    "            continue\n",
    "        file_name = f'/Users/rmgaliullin/cam_data_600k/small/{group}_nobl_{metrix_mapping.get(i, i)}.csv'\n",
    "        best_values = cluster_and_summarize(subset, col1=\"nobl\", col2=i, n_clusters=2000)\n",
    "        best_values = best_values.sort_values(by='count', ascending=False).reset_index(drop=True)\n",
    "        result_df_from_file = pd.read_csv(file_name, sep=' ')\n",
    "        more = best_values.shape[0] > result_df_from_file.shape[0]\n",
    "            \n",
    "        if force_rewrite_data or more:\n",
    "            result_df = best_values.rename(columns=metrix_mapping)\n",
    "            result_df[metrix_mapping.get(i, i)] = result_df[metrix_mapping.get(i, i)].astype(int)\n",
    "            result_df.to_csv(file_name, index=False, sep=' ')\n",
    "\n",
    "        print(f\"Done NOBL {i} number of points is {len(best_values)} in group {group}. It is more {more} than was\")"
   ]
  },
  {
   "cell_type": "code",
   "execution_count": 52,
   "metadata": {},
   "outputs": [
    {
     "name": "stderr",
     "output_type": "stream",
     "text": [
      "100%|██████████| 2/2 [00:00<00:00, 36.58it/s]"
     ]
    },
    {
     "name": "stdout",
     "output_type": "stream",
     "text": [
      "Done NOBL cc using value counts 1577 in group groupA. It is more False than was\n",
      "Done NOBL nocl using value counts 1253 in group groupA. It is more False than was\n"
     ]
    },
    {
     "name": "stderr",
     "output_type": "stream",
     "text": [
      "\n"
     ]
    }
   ],
   "source": [
    "for i in tqdm(['cc', 'nocl']):\n",
    "    for group, subset in data.items():\n",
    "        file_name = f'/Users/rmgaliullin/cam_data_600k/small/{group}_nobl_{metrix_mapping.get(i, i)}.csv'\n",
    "        best_values = subset[['nobl', i]].value_counts().reset_index(name='count')\n",
    "        best_values = best_values.sort_values(by='count', ascending=False).reset_index(drop=True)\n",
    "        result_df_from_file = pd.read_csv(file_name, sep=' ')\n",
    "        more = len(best_values) > result_df_from_file.shape[0]\n",
    "        if force_rewrite_data or more:\n",
    "            result_df = best_values.rename(columns=metrix_mapping)\n",
    "            result_df[metrix_mapping.get(i, i)] = result_df[metrix_mapping.get(i, i)].astype(int)\n",
    "            result_df.to_csv(file_name, index=False, sep=' ')\n",
    "\n",
    "        print(f\"Done NOBL {i} using value counts {len(best_values)} in group {group}. It is more {more} than was\")"
   ]
  },
  {
   "cell_type": "code",
   "execution_count": 42,
   "metadata": {},
   "outputs": [],
   "source": [
    "force_rewrite_data = True\n",
    "\n",
    "metrix_mapping = {'bl_ratio':'robl', 'cl_ratio':'rocl', 'nocl':'ncl', 'hse':'hse', 'hsd':'hsd', 'hsv':'hsv'}\n",
    "data = {'groupA': robl_subset_df} #,'groupB': robl_subset_df_3_40,'groupC': robl_subset_df_3_40_with_non_zero_bl}\n",
    "distance_by_metric = {'cc': 0.00208, 'loc':0.01, 'hse':39.93, 'hsd':0.067, 'hsv': 1.43, 'coco': 0.0039, 'midx': 0.039, 'nocl':0.00159}\n",
    "step_by_metric = {'cc': 1.01, 'loc':1.1, 'hse':1.1, 'hsd': 1.1, 'hsv': 1.01, 'coco': 1.1, 'midx': 1.1, 'nocl':1.1}"
   ]
  },
  {
   "cell_type": "code",
   "execution_count": 47,
   "metadata": {},
   "outputs": [
    {
     "name": "stderr",
     "output_type": "stream",
     "text": [
      " 11%|█         | 1/9 [00:51<06:49, 51.14s/it]"
     ]
    },
    {
     "name": "stdout",
     "output_type": "stream",
     "text": [
      "Done ROBL cc number of points is 2000 in group groupA. It is more False than was\n"
     ]
    },
    {
     "name": "stderr",
     "output_type": "stream",
     "text": [
      " 22%|██▏       | 2/9 [01:39<05:47, 49.71s/it]"
     ]
    },
    {
     "name": "stdout",
     "output_type": "stream",
     "text": [
      "Done ROBL loc number of points is 2000 in group groupA. It is more False than was\n"
     ]
    },
    {
     "name": "stderr",
     "output_type": "stream",
     "text": [
      " 33%|███▎      | 3/9 [02:30<05:02, 50.37s/it]"
     ]
    },
    {
     "name": "stdout",
     "output_type": "stream",
     "text": [
      "Done ROBL hse number of points is 2000 in group groupA. It is more False than was\n"
     ]
    },
    {
     "name": "stderr",
     "output_type": "stream",
     "text": [
      " 44%|████▍     | 4/9 [03:22<04:13, 50.71s/it]"
     ]
    },
    {
     "name": "stdout",
     "output_type": "stream",
     "text": [
      "Done ROBL hsd number of points is 2000 in group groupA. It is more False than was\n"
     ]
    },
    {
     "name": "stderr",
     "output_type": "stream",
     "text": [
      " 56%|█████▌    | 5/9 [04:12<03:22, 50.67s/it]"
     ]
    },
    {
     "name": "stdout",
     "output_type": "stream",
     "text": [
      "Done ROBL hsv number of points is 2000 in group groupA. It is more False than was\n"
     ]
    },
    {
     "name": "stderr",
     "output_type": "stream",
     "text": [
      " 67%|██████▋   | 6/9 [05:02<02:31, 50.43s/it]"
     ]
    },
    {
     "name": "stdout",
     "output_type": "stream",
     "text": [
      "Done ROBL coco number of points is 2000 in group groupA. It is more False than was\n"
     ]
    },
    {
     "name": "stderr",
     "output_type": "stream",
     "text": [
      " 78%|███████▊  | 7/9 [05:53<01:41, 50.63s/it]"
     ]
    },
    {
     "name": "stdout",
     "output_type": "stream",
     "text": [
      "Done ROBL midx number of points is 2000 in group groupA. It is more False than was\n"
     ]
    },
    {
     "name": "stderr",
     "output_type": "stream",
     "text": [
      " 89%|████████▉ | 8/9 [06:42<00:50, 50.08s/it]"
     ]
    },
    {
     "name": "stdout",
     "output_type": "stream",
     "text": [
      "Done ROBL nocl number of points is 2000 in group groupA. It is more False than was\n"
     ]
    },
    {
     "name": "stderr",
     "output_type": "stream",
     "text": [
      "100%|██████████| 9/9 [07:31<00:00, 50.20s/it]"
     ]
    },
    {
     "name": "stdout",
     "output_type": "stream",
     "text": [
      "Done ROBL cl_ratio number of points is 2000 in group groupA. It is more True than was\n"
     ]
    },
    {
     "name": "stderr",
     "output_type": "stream",
     "text": [
      "\n"
     ]
    }
   ],
   "source": [
    "for i in tqdm(['cc', 'loc', 'hse', 'hsd', 'hsv', 'coco', 'midx', 'nocl', 'cl_ratio']):\n",
    "    for group, subset in data.items():\n",
    "        if i == 'bl_ratio':\n",
    "            continue\n",
    "        \n",
    "        file_name = f'/Users/rmgaliullin/cam_data_600k/small/{group}_robl_{metrix_mapping.get(i, i)}.csv'\n",
    "        best_values = cluster_and_summarize(subset, col1=\"bl_ratio\", col2=i, n_clusters=2000)\n",
    "        best_values = best_values.sort_values(by='count', ascending=False).reset_index(drop=True)\n",
    "        result_df_from_file = pd.read_csv(file_name, sep=' ')\n",
    "        more = best_values.shape[0] > result_df_from_file.shape[0]\n",
    "            \n",
    "        if force_rewrite_data or more:\n",
    "            result_df = best_values.rename(columns=metrix_mapping)\n",
    "            result_df[metrix_mapping.get(i, i)] = result_df[metrix_mapping.get(i, i)].astype(int)\n",
    "            result_df.to_csv(file_name, index=False, sep=' ')\n",
    "            \n",
    "        print(f\"Done ROBL {i} number of points is {len(best_values)} in group {group}. It is more {more} than was\")"
   ]
  },
  {
   "cell_type": "code",
   "execution_count": 46,
   "metadata": {},
   "outputs": [
    {
     "name": "stderr",
     "output_type": "stream",
     "text": [
      "100%|██████████| 9/9 [00:00<00:00, 32.95it/s]\n"
     ]
    }
   ],
   "source": [
    "for i in tqdm(['cc', 'loc', 'hse', 'hsd', 'hsv', 'coco', 'midx', 'nocl', 'cl_ratio']):\n",
    "    for group, subset in data.items():\n",
    "        file_name = f'/Users/rmgaliullin/cam_data_600k/small/{group}_robl_{metrix_mapping.get(i, i)}.csv'\n",
    "        best_values = subset[['bl_ratio', i]].value_counts().reset_index(name='count')\n",
    "        if len(best_values) > 3000:\n",
    "            continue\n",
    "        best_values = best_values.sort_values(by='count', ascending=False).reset_index(drop=True)\n",
    "        result_df_from_file = pd.read_csv(file_name, sep=' ')\n",
    "        more = len(best_values) > result_df_from_file.shape[0]\n",
    "        if force_rewrite_data or more:\n",
    "            result_df = best_values.rename(columns=metrix_mapping)\n",
    "            result_df[metrix_mapping.get(i, i)] = result_df[metrix_mapping.get(i, i)].astype(int)\n",
    "            result_df.to_csv(file_name, index=False, sep=' ')\n",
    "\n",
    "        print(f\"Done ROBL {i} using value counts {len(best_values)} in group {group}. It is more {more} than was\")"
   ]
  },
  {
   "cell_type": "markdown",
   "metadata": {},
   "source": [
    "### Build linear regression marks for each metric scatter plot"
   ]
  },
  {
   "cell_type": "code",
   "execution_count": 65,
   "metadata": {},
   "outputs": [
    {
     "name": "stdout",
     "output_type": "stream",
     "text": [
      "Saved linear regression results to: /Users/rmgaliullin/cam_data_600k/small/groupA_nobl_cc_linereg.csv\n",
      "Saved linear regression results to: /Users/rmgaliullin/cam_data_600k/small/groupA_nobl_loc_linereg.csv\n",
      "Saved linear regression results to: /Users/rmgaliullin/cam_data_600k/small/groupA_nobl_hse_linereg.csv\n",
      "Saved linear regression results to: /Users/rmgaliullin/cam_data_600k/small/groupA_nobl_hsd_linereg.csv\n",
      "Saved linear regression results to: /Users/rmgaliullin/cam_data_600k/small/groupA_nobl_hsv_linereg.csv\n",
      "Saved linear regression results to: /Users/rmgaliullin/cam_data_600k/small/groupA_nobl_coco_linereg.csv\n",
      "Saved linear regression results to: /Users/rmgaliullin/cam_data_600k/small/groupA_nobl_midx_linereg.csv\n",
      "Saved linear regression results to: /Users/rmgaliullin/cam_data_600k/small/groupA_nobl_ncl_linereg.csv\n",
      "Saved linear regression results to: /Users/rmgaliullin/cam_data_600k/small/groupA_robl_cc_linereg.csv\n",
      "Saved linear regression results to: /Users/rmgaliullin/cam_data_600k/small/groupA_robl_loc_linereg.csv\n",
      "Saved linear regression results to: /Users/rmgaliullin/cam_data_600k/small/groupA_robl_hse_linereg.csv\n",
      "Saved linear regression results to: /Users/rmgaliullin/cam_data_600k/small/groupA_robl_hsd_linereg.csv\n",
      "Saved linear regression results to: /Users/rmgaliullin/cam_data_600k/small/groupA_robl_hsv_linereg.csv\n",
      "Saved linear regression results to: /Users/rmgaliullin/cam_data_600k/small/groupA_robl_coco_linereg.csv\n",
      "Saved linear regression results to: /Users/rmgaliullin/cam_data_600k/small/groupA_robl_midx_linereg.csv\n",
      "Saved linear regression results to: /Users/rmgaliullin/cam_data_600k/small/groupA_robl_ncl_linereg.csv\n"
     ]
    }
   ],
   "source": [
    "# Define the parameters\n",
    "first_options = ['nobl', 'robl']\n",
    "second_options = ['cc', 'loc', 'hse', 'hsd', 'hsv', 'coco', 'midx', 'ncl']\n",
    "\n",
    "# Iterate over each combination of first and second\n",
    "for first in first_options:\n",
    "    for second in second_options:\n",
    "        # Construct the file path\n",
    "        input_file_path = f'/Users/rmgaliullin/cam_data_600k/small/groupA_{first}_{second}.csv'\n",
    "        output_file_path = f'/Users/rmgaliullin/cam_data_600k/small/groupA_{first}_{second}_linereg.csv'\n",
    "\n",
    "        # Check if the input file exists\n",
    "        if not os.path.exists(input_file_path):\n",
    "            print(f\"File not found: {input_file_path}\")\n",
    "            continue\n",
    "        \n",
    "        # Read the data from the CSV file\n",
    "        df = pd.read_csv(input_file_path, delimiter=\" \")\n",
    "        # Ensure the necessary columns exist\n",
    "        if first not in df.columns or second not in df.columns:\n",
    "            print(f\"Columns {first} or {second} not found in {input_file_path}\")\n",
    "            continue\n",
    "\n",
    "        # Prepare the data for linear regression\n",
    "        x = df[[first]].values.reshape(-1, 1)  # Independent variable\n",
    "        y = df[second].values  # Dependent variable\n",
    "\n",
    "        # Normalize the independent variable (x)\n",
    "        scaler = MinMaxScaler()\n",
    "        x_normalized = scaler.fit_transform(x)\n",
    "\n",
    "        # Perform linear regression\n",
    "        model = LinearRegression(deg)\n",
    "        model.fit(x_normalized, y)\n",
    "\n",
    "        # Generate points for the regression line\n",
    "        x_range_normalized = np.linspace(0, 1, 50).reshape(-1, 1)  # Normalized range for x\n",
    "        y_pred = model.predict(x_range_normalized)\n",
    "\n",
    "        # Inverse transform the normalized x_range to original scale for output\n",
    "        x_range_original = scaler.inverse_transform(x_range_normalized)\n",
    "\n",
    "        # Create a DataFrame for the results\n",
    "        results_df = pd.DataFrame({\n",
    "            first: x_range_original.flatten(),\n",
    "            second: y_pred\n",
    "        })\n",
    "\n",
    "        # Save the results to a new CSV file with space as the separator\n",
    "        results_df.to_csv(output_file_path, index=False, sep=\" \")\n",
    "        print(f\"Saved linear regression results to: {output_file_path}\")"
   ]
  },
  {
   "cell_type": "markdown",
   "metadata": {},
   "source": [
    "### Make dat-files from their csv examples"
   ]
  },
  {
   "cell_type": "code",
   "execution_count": 64,
   "metadata": {},
   "outputs": [
    {
     "name": "stdout",
     "output_type": "stream",
     "text": [
      "inside\n",
      "Copying CSV file '/Users/rmgaliullin/cam_data_600k/small/groupB_robl_midx.csv' to DAT file '/Users/rmgaliullin/cam_data_600k/small/dat/groupB_robl_midx.dat'\n",
      "Copying CSV file '/Users/rmgaliullin/cam_data_600k/small/groupA_nobl_bl_ratio.csv' to DAT file '/Users/rmgaliullin/cam_data_600k/small/dat/groupA_nobl_bl_ratio.dat'\n",
      "Copying CSV file '/Users/rmgaliullin/cam_data_600k/small/groupC_loc_midx.csv' to DAT file '/Users/rmgaliullin/cam_data_600k/small/dat/groupC_loc_midx.dat'\n",
      "Copying CSV file '/Users/rmgaliullin/cam_data_600k/small/groupA_nobl_hse_linereg.csv' to DAT file '/Users/rmgaliullin/cam_data_600k/small/dat/groupA_nobl_hse_linereg.dat'\n",
      "Copying CSV file '/Users/rmgaliullin/cam_data_600k/small/groupB_nobl_coco.csv' to DAT file '/Users/rmgaliullin/cam_data_600k/small/dat/groupB_nobl_coco.dat'\n",
      "Copying CSV file '/Users/rmgaliullin/cam_data_600k/small/groupC_nobl_rocl.csv' to DAT file '/Users/rmgaliullin/cam_data_600k/small/dat/groupC_nobl_rocl.dat'\n",
      "Copying CSV file '/Users/rmgaliullin/cam_data_600k/small/groupC_robl_hsv.csv' to DAT file '/Users/rmgaliullin/cam_data_600k/small/dat/groupC_robl_hsv.dat'\n",
      "Copying CSV file '/Users/rmgaliullin/cam_data_600k/small/groupA_robl_coco_linereg.csv' to DAT file '/Users/rmgaliullin/cam_data_600k/small/dat/groupA_robl_coco_linereg.dat'\n",
      "Copying CSV file '/Users/rmgaliullin/cam_data_600k/small/groupA_loc_nocl.csv' to DAT file '/Users/rmgaliullin/cam_data_600k/small/dat/groupA_loc_nocl.dat'\n",
      "Copying CSV file '/Users/rmgaliullin/cam_data_600k/small/groupB_nobl_ncl.csv' to DAT file '/Users/rmgaliullin/cam_data_600k/small/dat/groupB_nobl_ncl.dat'\n",
      "Copying CSV file '/Users/rmgaliullin/cam_data_600k/small/groupB_robl_hsd.csv' to DAT file '/Users/rmgaliullin/cam_data_600k/small/dat/groupB_robl_hsd.dat'\n",
      "Copying CSV file '/Users/rmgaliullin/cam_data_600k/small/groupB_robl_hse.csv' to DAT file '/Users/rmgaliullin/cam_data_600k/small/dat/groupB_robl_hse.dat'\n",
      "Copying CSV file '/Users/rmgaliullin/cam_data_600k/small/groupC_loc_hsv.csv' to DAT file '/Users/rmgaliullin/cam_data_600k/small/dat/groupC_loc_hsv.dat'\n",
      "Copying CSV file '/Users/rmgaliullin/cam_data_600k/small/groupC_robl_nocl.csv' to DAT file '/Users/rmgaliullin/cam_data_600k/small/dat/groupC_robl_nocl.dat'\n",
      "Copying CSV file '/Users/rmgaliullin/cam_data_600k/small/groupC_robl_nobl.csv' to DAT file '/Users/rmgaliullin/cam_data_600k/small/dat/groupC_robl_nobl.dat'\n",
      "Copying CSV file '/Users/rmgaliullin/cam_data_600k/small/groupA_loc_cc.csv' to DAT file '/Users/rmgaliullin/cam_data_600k/small/dat/groupA_loc_cc.dat'\n",
      "Copying CSV file '/Users/rmgaliullin/cam_data_600k/small/groupC_loc_hse.csv' to DAT file '/Users/rmgaliullin/cam_data_600k/small/dat/groupC_loc_hse.dat'\n",
      "Copying CSV file '/Users/rmgaliullin/cam_data_600k/small/groupB_robl_hsv.csv' to DAT file '/Users/rmgaliullin/cam_data_600k/small/dat/groupB_robl_hsv.dat'\n",
      "Copying CSV file '/Users/rmgaliullin/cam_data_600k/small/groupA_nobl_hsv_linereg.csv' to DAT file '/Users/rmgaliullin/cam_data_600k/small/dat/groupA_nobl_hsv_linereg.dat'\n",
      "Copying CSV file '/Users/rmgaliullin/cam_data_600k/small/groupA_nobl_cc_linereg.csv' to DAT file '/Users/rmgaliullin/cam_data_600k/small/dat/groupA_nobl_cc_linereg.dat'\n",
      "Copying CSV file '/Users/rmgaliullin/cam_data_600k/small/groupA_loc_nobl.csv' to DAT file '/Users/rmgaliullin/cam_data_600k/small/dat/groupA_loc_nobl.dat'\n",
      "Copying CSV file '/Users/rmgaliullin/cam_data_600k/small/groupC_loc_hsd.csv' to DAT file '/Users/rmgaliullin/cam_data_600k/small/dat/groupC_loc_hsd.dat'\n",
      "Copying CSV file '/Users/rmgaliullin/cam_data_600k/small/groupB_loc_midx.csv' to DAT file '/Users/rmgaliullin/cam_data_600k/small/dat/groupB_loc_midx.dat'\n",
      "Copying CSV file '/Users/rmgaliullin/cam_data_600k/small/groupA_nobl_midx_linereg.csv' to DAT file '/Users/rmgaliullin/cam_data_600k/small/dat/groupA_nobl_midx_linereg.dat'\n",
      "Copying CSV file '/Users/rmgaliullin/cam_data_600k/small/groupC_robl_hse.csv' to DAT file '/Users/rmgaliullin/cam_data_600k/small/dat/groupC_robl_hse.dat'\n",
      "Copying CSV file '/Users/rmgaliullin/cam_data_600k/small/groupB_loc_cl_ratio.csv' to DAT file '/Users/rmgaliullin/cam_data_600k/small/dat/groupB_loc_cl_ratio.dat'\n",
      "Copying CSV file '/Users/rmgaliullin/cam_data_600k/small/groupC_nobl_robl.csv' to DAT file '/Users/rmgaliullin/cam_data_600k/small/dat/groupC_nobl_robl.dat'\n",
      "Copying CSV file '/Users/rmgaliullin/cam_data_600k/small/groupA_nobl_loc.csv' to DAT file '/Users/rmgaliullin/cam_data_600k/small/dat/groupA_nobl_loc.dat'\n",
      "Copying CSV file '/Users/rmgaliullin/cam_data_600k/small/groupA_robl_ncl_linereg.csv' to DAT file '/Users/rmgaliullin/cam_data_600k/small/dat/groupA_robl_ncl_linereg.dat'\n",
      "Copying CSV file '/Users/rmgaliullin/cam_data_600k/small/groupA_robl_midx.csv' to DAT file '/Users/rmgaliullin/cam_data_600k/small/dat/groupA_robl_midx.dat'\n",
      "Copying CSV file '/Users/rmgaliullin/cam_data_600k/small/groupA_nobl_coco.csv' to DAT file '/Users/rmgaliullin/cam_data_600k/small/dat/groupA_nobl_coco.dat'\n",
      "Copying CSV file '/Users/rmgaliullin/cam_data_600k/small/groupA_robl_cc.csv' to DAT file '/Users/rmgaliullin/cam_data_600k/small/dat/groupA_robl_cc.dat'\n",
      "Copying CSV file '/Users/rmgaliullin/cam_data_600k/small/groupC_robl_hsd.csv' to DAT file '/Users/rmgaliullin/cam_data_600k/small/dat/groupC_robl_hsd.dat'\n",
      "Copying CSV file '/Users/rmgaliullin/cam_data_600k/small/groupC_nobl_ncl.csv' to DAT file '/Users/rmgaliullin/cam_data_600k/small/dat/groupC_nobl_ncl.dat'\n",
      "Copying CSV file '/Users/rmgaliullin/cam_data_600k/small/groupA_robl_midx_linereg.csv' to DAT file '/Users/rmgaliullin/cam_data_600k/small/dat/groupA_robl_midx_linereg.dat'\n",
      "Copying CSV file '/Users/rmgaliullin/cam_data_600k/small/groupB_robl_cc.csv' to DAT file '/Users/rmgaliullin/cam_data_600k/small/dat/groupB_robl_cc.dat'\n",
      "Copying CSV file '/Users/rmgaliullin/cam_data_600k/small/groupA_nobl_midx.csv' to DAT file '/Users/rmgaliullin/cam_data_600k/small/dat/groupA_nobl_midx.dat'\n",
      "Copying CSV file '/Users/rmgaliullin/cam_data_600k/small/groupC_nobl_cc.csv' to DAT file '/Users/rmgaliullin/cam_data_600k/small/dat/groupC_nobl_cc.dat'\n",
      "Copying CSV file '/Users/rmgaliullin/cam_data_600k/small/groupA_loc_bl_ratio.csv' to DAT file '/Users/rmgaliullin/cam_data_600k/small/dat/groupA_loc_bl_ratio.dat'\n",
      "Copying CSV file '/Users/rmgaliullin/cam_data_600k/small/groupA_nobl_ncl_linereg.csv' to DAT file '/Users/rmgaliullin/cam_data_600k/small/dat/groupA_nobl_ncl_linereg.dat'\n",
      "Copying CSV file '/Users/rmgaliullin/cam_data_600k/small/groupC_nobl_bl_ratio.csv' to DAT file '/Users/rmgaliullin/cam_data_600k/small/dat/groupC_nobl_bl_ratio.dat'\n",
      "Copying CSV file '/Users/rmgaliullin/cam_data_600k/small/groupC_nobl_hsv.csv' to DAT file '/Users/rmgaliullin/cam_data_600k/small/dat/groupC_nobl_hsv.dat'\n",
      "Copying CSV file '/Users/rmgaliullin/cam_data_600k/small/groupA_loc_robl.csv' to DAT file '/Users/rmgaliullin/cam_data_600k/small/dat/groupA_loc_robl.dat'\n",
      "Copying CSV file '/Users/rmgaliullin/cam_data_600k/small/groupA_robl_coco.csv' to DAT file '/Users/rmgaliullin/cam_data_600k/small/dat/groupA_robl_coco.dat'\n",
      "Copying CSV file '/Users/rmgaliullin/cam_data_600k/small/groupB_robl_ncl.csv' to DAT file '/Users/rmgaliullin/cam_data_600k/small/dat/groupB_robl_ncl.dat'\n",
      "Copying CSV file '/Users/rmgaliullin/cam_data_600k/small/groupB_nobl_hsd.csv' to DAT file '/Users/rmgaliullin/cam_data_600k/small/dat/groupB_nobl_hsd.dat'\n",
      "Copying CSV file '/Users/rmgaliullin/cam_data_600k/small/groupA_robl_hsv_linereg.csv' to DAT file '/Users/rmgaliullin/cam_data_600k/small/dat/groupA_robl_hsv_linereg.dat'\n",
      "Copying CSV file '/Users/rmgaliullin/cam_data_600k/small/groupB_loc_coco.csv' to DAT file '/Users/rmgaliullin/cam_data_600k/small/dat/groupB_loc_coco.dat'\n",
      "Copying CSV file '/Users/rmgaliullin/cam_data_600k/small/groupB_nobl_hse.csv' to DAT file '/Users/rmgaliullin/cam_data_600k/small/dat/groupB_nobl_hse.dat'\n",
      "Copying CSV file '/Users/rmgaliullin/cam_data_600k/small/groupB_nobl_hsv.csv' to DAT file '/Users/rmgaliullin/cam_data_600k/small/dat/groupB_nobl_hsv.dat'\n",
      "Copying CSV file '/Users/rmgaliullin/cam_data_600k/small/groupA_nobl_coco_linereg.csv' to DAT file '/Users/rmgaliullin/cam_data_600k/small/dat/groupA_nobl_coco_linereg.dat'\n",
      "Copying CSV file '/Users/rmgaliullin/cam_data_600k/small/groupB_nobl_bl_ratio.csv' to DAT file '/Users/rmgaliullin/cam_data_600k/small/dat/groupB_nobl_bl_ratio.dat'\n",
      "Copying CSV file '/Users/rmgaliullin/cam_data_600k/small/groupA_robl_cc_linereg.csv' to DAT file '/Users/rmgaliullin/cam_data_600k/small/dat/groupA_robl_cc_linereg.dat'\n",
      "Copying CSV file '/Users/rmgaliullin/cam_data_600k/small/groupC_loc_ncl.csv' to DAT file '/Users/rmgaliullin/cam_data_600k/small/dat/groupC_loc_ncl.dat'\n",
      "Copying CSV file '/Users/rmgaliullin/cam_data_600k/small/groupC_loc_cc.csv' to DAT file '/Users/rmgaliullin/cam_data_600k/small/dat/groupC_loc_cc.dat'\n",
      "Copying CSV file '/Users/rmgaliullin/cam_data_600k/small/groupC_nobl_nocl.csv' to DAT file '/Users/rmgaliullin/cam_data_600k/small/dat/groupC_nobl_nocl.dat'\n",
      "Copying CSV file '/Users/rmgaliullin/cam_data_600k/small/groupA_robl_loc.csv' to DAT file '/Users/rmgaliullin/cam_data_600k/small/dat/groupA_robl_loc.dat'\n",
      "Copying CSV file '/Users/rmgaliullin/cam_data_600k/small/groupB_nobl_midx.csv' to DAT file '/Users/rmgaliullin/cam_data_600k/small/dat/groupB_nobl_midx.dat'\n",
      "Copying CSV file '/Users/rmgaliullin/cam_data_600k/small/groupA_loc_rocl.csv' to DAT file '/Users/rmgaliullin/cam_data_600k/small/dat/groupA_loc_rocl.dat'\n",
      "Copying CSV file '/Users/rmgaliullin/cam_data_600k/small/groupC_nobl_hse.csv' to DAT file '/Users/rmgaliullin/cam_data_600k/small/dat/groupC_nobl_hse.dat'\n",
      "Copying CSV file '/Users/rmgaliullin/cam_data_600k/small/groupA_robl_hse_linereg.csv' to DAT file '/Users/rmgaliullin/cam_data_600k/small/dat/groupA_robl_hse_linereg.dat'\n",
      "Copying CSV file '/Users/rmgaliullin/cam_data_600k/small/groupC_nobl_hsd.csv' to DAT file '/Users/rmgaliullin/cam_data_600k/small/dat/groupC_nobl_hsd.dat'\n",
      "Copying CSV file '/Users/rmgaliullin/cam_data_600k/small/groupC_robl_ncl.csv' to DAT file '/Users/rmgaliullin/cam_data_600k/small/dat/groupC_robl_ncl.dat'\n",
      "Copying CSV file '/Users/rmgaliullin/cam_data_600k/small/groupB_robl_coco.csv' to DAT file '/Users/rmgaliullin/cam_data_600k/small/dat/groupB_robl_coco.dat'\n",
      "Copying CSV file '/Users/rmgaliullin/cam_data_600k/small/groupC_loc_cl_ratio.csv' to DAT file '/Users/rmgaliullin/cam_data_600k/small/dat/groupC_loc_cl_ratio.dat'\n",
      "Copying CSV file '/Users/rmgaliullin/cam_data_600k/small/groupC_loc_coco.csv' to DAT file '/Users/rmgaliullin/cam_data_600k/small/dat/groupC_loc_coco.dat'\n",
      "Copying CSV file '/Users/rmgaliullin/cam_data_600k/small/groupC_robl_rocl.csv' to DAT file '/Users/rmgaliullin/cam_data_600k/small/dat/groupC_robl_rocl.dat'\n",
      "Copying CSV file '/Users/rmgaliullin/cam_data_600k/small/groupA_nobl_cc.csv' to DAT file '/Users/rmgaliullin/cam_data_600k/small/dat/groupA_nobl_cc.dat'\n",
      "Copying CSV file '/Users/rmgaliullin/cam_data_600k/small/groupB_nobl_nocl.csv' to DAT file '/Users/rmgaliullin/cam_data_600k/small/dat/groupB_nobl_nocl.dat'\n",
      "Copying CSV file '/Users/rmgaliullin/cam_data_600k/small/groupB_loc_robl.csv' to DAT file '/Users/rmgaliullin/cam_data_600k/small/dat/groupB_loc_robl.dat'\n",
      "Copying CSV file '/Users/rmgaliullin/cam_data_600k/small/groupB_robl_cl_ratio.csv' to DAT file '/Users/rmgaliullin/cam_data_600k/small/dat/groupB_robl_cl_ratio.dat'\n",
      "Copying CSV file '/Users/rmgaliullin/cam_data_600k/small/groupB_robl_rocl.csv' to DAT file '/Users/rmgaliullin/cam_data_600k/small/dat/groupB_robl_rocl.dat'\n",
      "Copying CSV file '/Users/rmgaliullin/cam_data_600k/small/groupA_nobl_hse.csv' to DAT file '/Users/rmgaliullin/cam_data_600k/small/dat/groupA_nobl_hse.dat'\n",
      "Copying CSV file '/Users/rmgaliullin/cam_data_600k/small/groupC_robl_coco.csv' to DAT file '/Users/rmgaliullin/cam_data_600k/small/dat/groupC_robl_coco.dat'\n",
      "Copying CSV file '/Users/rmgaliullin/cam_data_600k/small/groupA_nobl_loc_linereg.csv' to DAT file '/Users/rmgaliullin/cam_data_600k/small/dat/groupA_nobl_loc_linereg.dat'\n",
      "Copying CSV file '/Users/rmgaliullin/cam_data_600k/small/groupC_loc_rocl.csv' to DAT file '/Users/rmgaliullin/cam_data_600k/small/dat/groupC_loc_rocl.dat'\n",
      "Copying CSV file '/Users/rmgaliullin/cam_data_600k/small/groupB_loc_bl_ratio.csv' to DAT file '/Users/rmgaliullin/cam_data_600k/small/dat/groupB_loc_bl_ratio.dat'\n",
      "Copying CSV file '/Users/rmgaliullin/cam_data_600k/small/groupC_robl_loc.csv' to DAT file '/Users/rmgaliullin/cam_data_600k/small/dat/groupC_robl_loc.dat'\n",
      "Copying CSV file '/Users/rmgaliullin/cam_data_600k/small/groupB_loc_hsd.csv' to DAT file '/Users/rmgaliullin/cam_data_600k/small/dat/groupB_loc_hsd.dat'\n",
      "Copying CSV file '/Users/rmgaliullin/cam_data_600k/small/groupB_loc_hse.csv' to DAT file '/Users/rmgaliullin/cam_data_600k/small/dat/groupB_loc_hse.dat'\n",
      "Copying CSV file '/Users/rmgaliullin/cam_data_600k/small/groupA_loc_coco.csv' to DAT file '/Users/rmgaliullin/cam_data_600k/small/dat/groupA_loc_coco.dat'\n",
      "Copying CSV file '/Users/rmgaliullin/cam_data_600k/small/groupA_robl_ncl.csv' to DAT file '/Users/rmgaliullin/cam_data_600k/small/dat/groupA_robl_ncl.dat'\n",
      "Copying CSV file '/Users/rmgaliullin/cam_data_600k/small/groupA_nobl_hsd.csv' to DAT file '/Users/rmgaliullin/cam_data_600k/small/dat/groupA_nobl_hsd.dat'\n",
      "Copying CSV file '/Users/rmgaliullin/cam_data_600k/small/groupC_nobl_midx.csv' to DAT file '/Users/rmgaliullin/cam_data_600k/small/dat/groupC_nobl_midx.dat'\n",
      "Copying CSV file '/Users/rmgaliullin/cam_data_600k/small/groupA_nobl_cl_ratio.csv' to DAT file '/Users/rmgaliullin/cam_data_600k/small/dat/groupA_nobl_cl_ratio.dat'\n",
      "Copying CSV file '/Users/rmgaliullin/cam_data_600k/small/groupA_robl_rocl.csv' to DAT file '/Users/rmgaliullin/cam_data_600k/small/dat/groupA_robl_rocl.dat'\n",
      "Copying CSV file '/Users/rmgaliullin/cam_data_600k/small/groupB_loc_hsv.csv' to DAT file '/Users/rmgaliullin/cam_data_600k/small/dat/groupB_loc_hsv.dat'\n",
      "Copying CSV file '/Users/rmgaliullin/cam_data_600k/small/groupC_loc_robl.csv' to DAT file '/Users/rmgaliullin/cam_data_600k/small/dat/groupC_loc_robl.dat'\n",
      "Copying CSV file '/Users/rmgaliullin/cam_data_600k/small/groupA_nobl_hsv.csv' to DAT file '/Users/rmgaliullin/cam_data_600k/small/dat/groupA_nobl_hsv.dat'\n",
      "Copying CSV file '/Users/rmgaliullin/cam_data_600k/small/groupC_robl_cl_ratio.csv' to DAT file '/Users/rmgaliullin/cam_data_600k/small/dat/groupC_robl_cl_ratio.dat'\n",
      "Copying CSV file '/Users/rmgaliullin/cam_data_600k/small/groupA_loc_ncl.csv' to DAT file '/Users/rmgaliullin/cam_data_600k/small/dat/groupA_loc_ncl.dat'\n",
      "Copying CSV file '/Users/rmgaliullin/cam_data_600k/small/groupA_nobl_hsd_linereg.csv' to DAT file '/Users/rmgaliullin/cam_data_600k/small/dat/groupA_nobl_hsd_linereg.dat'\n",
      "Copying CSV file '/Users/rmgaliullin/cam_data_600k/small/groupA_nobl_nocl.csv' to DAT file '/Users/rmgaliullin/cam_data_600k/small/dat/groupA_nobl_nocl.dat'\n",
      "Copying CSV file '/Users/rmgaliullin/cam_data_600k/small/groupB_loc_rocl.csv' to DAT file '/Users/rmgaliullin/cam_data_600k/small/dat/groupB_loc_rocl.dat'\n",
      "Copying CSV file '/Users/rmgaliullin/cam_data_600k/small/groupB_robl_loc.csv' to DAT file '/Users/rmgaliullin/cam_data_600k/small/dat/groupB_robl_loc.dat'\n",
      "Copying CSV file '/Users/rmgaliullin/cam_data_600k/small/groupA_robl_nocl.csv' to DAT file '/Users/rmgaliullin/cam_data_600k/small/dat/groupA_robl_nocl.dat'\n",
      "Copying CSV file '/Users/rmgaliullin/cam_data_600k/small/groupA_robl_hsd_linereg.csv' to DAT file '/Users/rmgaliullin/cam_data_600k/small/dat/groupA_robl_hsd_linereg.dat'\n",
      "Copying CSV file '/Users/rmgaliullin/cam_data_600k/small/groupB_nobl_cl_ratio.csv' to DAT file '/Users/rmgaliullin/cam_data_600k/small/dat/groupB_nobl_cl_ratio.dat'\n",
      "Copying CSV file '/Users/rmgaliullin/cam_data_600k/small/groupC_loc_nobl.csv' to DAT file '/Users/rmgaliullin/cam_data_600k/small/dat/groupC_loc_nobl.dat'\n",
      "Copying CSV file '/Users/rmgaliullin/cam_data_600k/small/groupB_loc_cc.csv' to DAT file '/Users/rmgaliullin/cam_data_600k/small/dat/groupB_loc_cc.dat'\n",
      "Copying CSV file '/Users/rmgaliullin/cam_data_600k/small/groupB_robl_nobl.csv' to DAT file '/Users/rmgaliullin/cam_data_600k/small/dat/groupB_robl_nobl.dat'\n",
      "Copying CSV file '/Users/rmgaliullin/cam_data_600k/small/groupB_loc_ncl.csv' to DAT file '/Users/rmgaliullin/cam_data_600k/small/dat/groupB_loc_ncl.dat'\n",
      "Copying CSV file '/Users/rmgaliullin/cam_data_600k/small/groupC_nobl_loc.csv' to DAT file '/Users/rmgaliullin/cam_data_600k/small/dat/groupC_nobl_loc.dat'\n",
      "Copying CSV file '/Users/rmgaliullin/cam_data_600k/small/groupA_nobl_rocl.csv' to DAT file '/Users/rmgaliullin/cam_data_600k/small/dat/groupA_nobl_rocl.dat'\n",
      "Copying CSV file '/Users/rmgaliullin/cam_data_600k/small/groupA_robl_hse.csv' to DAT file '/Users/rmgaliullin/cam_data_600k/small/dat/groupA_robl_hse.dat'\n",
      "Copying CSV file '/Users/rmgaliullin/cam_data_600k/small/groupB_loc_nocl.csv' to DAT file '/Users/rmgaliullin/cam_data_600k/small/dat/groupB_loc_nocl.dat'\n",
      "Copying CSV file '/Users/rmgaliullin/cam_data_600k/small/groupA_nobl_ncl.csv' to DAT file '/Users/rmgaliullin/cam_data_600k/small/dat/groupA_nobl_ncl.dat'\n",
      "Copying CSV file '/Users/rmgaliullin/cam_data_600k/small/groupC_loc_bl_ratio.csv' to DAT file '/Users/rmgaliullin/cam_data_600k/small/dat/groupC_loc_bl_ratio.dat'\n",
      "Copying CSV file '/Users/rmgaliullin/cam_data_600k/small/groupA_robl_hsd.csv' to DAT file '/Users/rmgaliullin/cam_data_600k/small/dat/groupA_robl_hsd.dat'\n",
      "Copying CSV file '/Users/rmgaliullin/cam_data_600k/small/groupB_nobl_robl.csv' to DAT file '/Users/rmgaliullin/cam_data_600k/small/dat/groupB_nobl_robl.dat'\n",
      "Copying CSV file '/Users/rmgaliullin/cam_data_600k/small/groupA_loc_hsv.csv' to DAT file '/Users/rmgaliullin/cam_data_600k/small/dat/groupA_loc_hsv.dat'\n",
      "Copying CSV file '/Users/rmgaliullin/cam_data_600k/small/groupA_loc_midx.csv' to DAT file '/Users/rmgaliullin/cam_data_600k/small/dat/groupA_loc_midx.dat'\n",
      "Copying CSV file '/Users/rmgaliullin/cam_data_600k/small/groupA_loc_cl_ratio.csv' to DAT file '/Users/rmgaliullin/cam_data_600k/small/dat/groupA_loc_cl_ratio.dat'\n",
      "Copying CSV file '/Users/rmgaliullin/cam_data_600k/small/groupA_robl_loc_linereg.csv' to DAT file '/Users/rmgaliullin/cam_data_600k/small/dat/groupA_robl_loc_linereg.dat'\n",
      "Copying CSV file '/Users/rmgaliullin/cam_data_600k/small/groupC_nobl_cl_ratio.csv' to DAT file '/Users/rmgaliullin/cam_data_600k/small/dat/groupC_nobl_cl_ratio.dat'\n",
      "Copying CSV file '/Users/rmgaliullin/cam_data_600k/small/groupA_loc_hse.csv' to DAT file '/Users/rmgaliullin/cam_data_600k/small/dat/groupA_loc_hse.dat'\n",
      "Copying CSV file '/Users/rmgaliullin/cam_data_600k/small/groupB_nobl_rocl.csv' to DAT file '/Users/rmgaliullin/cam_data_600k/small/dat/groupB_nobl_rocl.dat'\n",
      "Copying CSV file '/Users/rmgaliullin/cam_data_600k/small/groupC_nobl_coco.csv' to DAT file '/Users/rmgaliullin/cam_data_600k/small/dat/groupC_nobl_coco.dat'\n",
      "Copying CSV file '/Users/rmgaliullin/cam_data_600k/small/groupB_loc_nobl.csv' to DAT file '/Users/rmgaliullin/cam_data_600k/small/dat/groupB_loc_nobl.dat'\n",
      "Copying CSV file '/Users/rmgaliullin/cam_data_600k/small/groupA_nobl_robl.csv' to DAT file '/Users/rmgaliullin/cam_data_600k/small/dat/groupA_nobl_robl.dat'\n",
      "Copying CSV file '/Users/rmgaliullin/cam_data_600k/small/groupA_robl_hsv.csv' to DAT file '/Users/rmgaliullin/cam_data_600k/small/dat/groupA_robl_hsv.dat'\n",
      "Copying CSV file '/Users/rmgaliullin/cam_data_600k/small/groupA_loc_hsd.csv' to DAT file '/Users/rmgaliullin/cam_data_600k/small/dat/groupA_loc_hsd.dat'\n",
      "Copying CSV file '/Users/rmgaliullin/cam_data_600k/small/groupC_robl_midx.csv' to DAT file '/Users/rmgaliullin/cam_data_600k/small/dat/groupC_robl_midx.dat'\n",
      "Copying CSV file '/Users/rmgaliullin/cam_data_600k/small/groupA_robl_cl_ratio.csv' to DAT file '/Users/rmgaliullin/cam_data_600k/small/dat/groupA_robl_cl_ratio.dat'\n",
      "Copying CSV file '/Users/rmgaliullin/cam_data_600k/small/groupB_robl_nocl.csv' to DAT file '/Users/rmgaliullin/cam_data_600k/small/dat/groupB_robl_nocl.dat'\n",
      "Copying CSV file '/Users/rmgaliullin/cam_data_600k/small/groupC_loc_nocl.csv' to DAT file '/Users/rmgaliullin/cam_data_600k/small/dat/groupC_loc_nocl.dat'\n",
      "Copying CSV file '/Users/rmgaliullin/cam_data_600k/small/groupB_nobl_loc.csv' to DAT file '/Users/rmgaliullin/cam_data_600k/small/dat/groupB_nobl_loc.dat'\n",
      "Copying CSV file '/Users/rmgaliullin/cam_data_600k/small/groupB_nobl_cc.csv' to DAT file '/Users/rmgaliullin/cam_data_600k/small/dat/groupB_nobl_cc.dat'\n",
      "Copying CSV file '/Users/rmgaliullin/cam_data_600k/small/groupC_robl_cc.csv' to DAT file '/Users/rmgaliullin/cam_data_600k/small/dat/groupC_robl_cc.dat'\n",
      "Copying CSV file '/Users/rmgaliullin/cam_data_600k/small/groupA_robl_nobl.csv' to DAT file '/Users/rmgaliullin/cam_data_600k/small/dat/groupA_robl_nobl.dat'\n",
      "inside\n"
     ]
    }
   ],
   "source": [
    "def copy_csv_to_dat(directory, depth=1):\n",
    "    for root, dirs, files in os.walk(directory):\n",
    "        current_depth = root[len(directory) + 1:].count(os.sep)\n",
    "        print(\"inside\")\n",
    "        if current_depth > depth:\n",
    "            continue\n",
    "        for file in files:\n",
    "            if file.endswith('.csv'):\n",
    "                csv_file_path = os.path.join(root, file)\n",
    "                dat_file_path = os.path.join(root, 'dat', file.replace('.csv', '.dat'))\n",
    "                os.makedirs(os.path.dirname(dat_file_path), exist_ok=True)\n",
    "                print(f\"Copying CSV file '{csv_file_path}' to DAT file '{dat_file_path}'\")\n",
    "                with open(csv_file_path, 'r') as csv_file:\n",
    "                    csv_content = csv_file.read()\n",
    "                    with open(dat_file_path, 'w') as dat_file:\n",
    "                        dat_file.write(csv_content)\n",
    "                    \n",
    "    \n",
    "# Specify the directory path\n",
    "directory_path = '/Users/rmgaliullin/cam_data_600k/small'\n",
    "\n",
    "# Call the function to copy CSV files to DAT files at depth=1\n",
    "copy_csv_to_dat(directory_path, depth=1)\n"
   ]
  },
  {
   "cell_type": "markdown",
   "metadata": {},
   "source": [
    "## Prepare statistics"
   ]
  },
  {
   "cell_type": "markdown",
   "metadata": {},
   "source": [
    "### Calculate pearson and spearman correlation coeff"
   ]
  },
  {
   "cell_type": "code",
   "execution_count": 56,
   "metadata": {},
   "outputs": [
    {
     "name": "stdout",
     "output_type": "stream",
     "text": [
      "Pearson Correlation (r values only):\n",
      "group      groupA    groupB    groupC    groupA    groupB    groupC\n",
      "feature      nobl      nobl      nobl  bl_ratio  bl_ratio  bl_ratio\n",
      "cc       0.356849  0.283058  0.205116  0.104245  0.056389 -0.334712\n",
      "coco     0.301803  0.301604  0.190454  0.073003  0.058191 -0.348887\n",
      "hse      0.325400  0.455861  0.366510  0.025450  0.156861 -0.267856\n",
      "hsv      0.584066  0.543944  0.454342  0.118576  0.213930 -0.367099\n",
      "hsd      0.523015  0.352822  0.262741  0.222138  0.129705 -0.300385\n",
      "midx    -0.583841 -0.260665 -0.288931 -0.088927 -0.059114  0.123527\n",
      "\n",
      "Spearman Correlation (r values only):\n",
      "group      groupA    groupB    groupC    groupA    groupB    groupC\n",
      "feature      nobl      nobl      nobl  bl_ratio  bl_ratio  bl_ratio\n",
      "cc       0.447345  0.266146  0.235179  0.425537  0.197853 -0.426238\n",
      "coco     0.443867  0.261469  0.218727  0.421987  0.192137 -0.454645\n",
      "hse      0.504927  0.492064  0.455218  0.505636  0.413002 -0.491275\n",
      "hsv      0.513503  0.516475  0.471252  0.514985  0.438366 -0.492393\n",
      "hsd      0.423918  0.337844  0.314908  0.416975  0.268609 -0.376653\n",
      "midx    -0.385191 -0.271910 -0.351216 -0.333018 -0.187933  0.279489\n",
      "\n",
      "Full Pearson Correlation Results:\n",
      "group                                               groupA  \\\n",
      "feature                                               nobl   \n",
      "cc                       r         CI95%\n",
      "pearson  0.356...   \n",
      "coco                     r       CI95%\n",
      "pearson  0.30180...   \n",
      "hse                    r         CI95%\n",
      "pearson  0.3254 ...   \n",
      "hsv                      r         CI95%\n",
      "pearson  0.584...   \n",
      "hsd                      r         CI95%\n",
      "pearson  0.523...   \n",
      "midx                     r           CI95%\n",
      "pearson -0.5...   \n",
      "\n",
      "group                                               groupB  \\\n",
      "feature                                               nobl   \n",
      "cc                       r         CI95%\n",
      "pearson  0.283...   \n",
      "coco                     r        CI95%\n",
      "pearson  0.3016...   \n",
      "hse                      r         CI95%\n",
      "pearson  0.455...   \n",
      "hsv                      r         CI95%\n",
      "pearson  0.543...   \n",
      "hsd                      r         CI95%\n",
      "pearson  0.352...   \n",
      "midx                     r           CI95%\n",
      "pearson -0.2...   \n",
      "\n",
      "group                                               groupC  \\\n",
      "feature                                               nobl   \n",
      "cc                       r        CI95%\n",
      "pearson  0.2051...   \n",
      "coco                     r        CI95%\n",
      "pearson  0.1904...   \n",
      "hse                     r         CI95%\n",
      "pearson  0.3665...   \n",
      "hsv                      r         CI95%\n",
      "pearson  0.454...   \n",
      "hsd                      r         CI95%\n",
      "pearson  0.262...   \n",
      "midx                     r          CI95%\n",
      "pearson -0.28...   \n",
      "\n",
      "group                                               groupA  \\\n",
      "feature                                           bl_ratio   \n",
      "cc                       r        CI95%\n",
      "pearson  0.1042...   \n",
      "coco                     r         CI95%\n",
      "pearson  0.073...   \n",
      "hse                     r         CI95%\n",
      "pearson  0.0254...   \n",
      "hsv                      r         CI95%\n",
      "pearson  0.118...   \n",
      "hsd                      r         CI95%\n",
      "pearson  0.222...   \n",
      "midx                     r           CI95%\n",
      "pearson -0.0...   \n",
      "\n",
      "group                                               groupB  \\\n",
      "feature                                           bl_ratio   \n",
      "cc                       r         CI95%\n",
      "pearson  0.056...   \n",
      "coco                     r         CI95%\n",
      "pearson  0.058...   \n",
      "hse                      r         CI95%\n",
      "pearson  0.156...   \n",
      "hsv                     r         CI95%\n",
      "pearson  0.2139...   \n",
      "hsd                      r         CI95%\n",
      "pearson  0.129...   \n",
      "midx                     r           CI95%\n",
      "pearson -0.0...   \n",
      "\n",
      "group                                               groupC  \n",
      "feature                                           bl_ratio  \n",
      "cc                       r           CI95%\n",
      "pearson -0.3...  \n",
      "coco                     r           CI95%\n",
      "pearson -0.3...  \n",
      "hse                      r           CI95%\n",
      "pearson -0.2...  \n",
      "hsv                      r           CI95%\n",
      "pearson -0.3...  \n",
      "hsd                      r           CI95%\n",
      "pearson -0.3...  \n",
      "midx                     r         CI95%\n",
      "pearson  0.123...  \n",
      "\n",
      "Full Spearman Correlation Results:\n",
      "group                                               groupA  \\\n",
      "feature                                               nobl   \n",
      "cc                        r         CI95%\n",
      "spearman  0.4...   \n",
      "coco                      r         CI95%\n",
      "spearman  0.4...   \n",
      "hse                       r        CI95%\n",
      "spearman  0.50...   \n",
      "hsv                       r         CI95%\n",
      "spearman  0.5...   \n",
      "hsd                       r         CI95%\n",
      "spearman  0.4...   \n",
      "midx                      r           CI95%\n",
      "spearman -0...   \n",
      "\n",
      "group                                               groupB  \\\n",
      "feature                                               nobl   \n",
      "cc                        r         CI95%\n",
      "spearman  0.2...   \n",
      "coco                      r         CI95%\n",
      "spearman  0.2...   \n",
      "hse                       r         CI95%\n",
      "spearman  0.4...   \n",
      "hsv                       r         CI95%\n",
      "spearman  0.5...   \n",
      "hsd                       r         CI95%\n",
      "spearman  0.3...   \n",
      "midx                     r           CI95%\n",
      "spearman -0....   \n",
      "\n",
      "group                                               groupC  \\\n",
      "feature                                               nobl   \n",
      "cc                        r         CI95%\n",
      "spearman  0.2...   \n",
      "coco                      r         CI95%\n",
      "spearman  0.2...   \n",
      "hse                       r         CI95%\n",
      "spearman  0.4...   \n",
      "hsv                       r         CI95%\n",
      "spearman  0.4...   \n",
      "hsd                       r         CI95%\n",
      "spearman  0.3...   \n",
      "midx                      r           CI95%\n",
      "spearman -0...   \n",
      "\n",
      "group                                               groupA  \\\n",
      "feature                                           bl_ratio   \n",
      "cc                        r         CI95%\n",
      "spearman  0.4...   \n",
      "coco                      r         CI95%\n",
      "spearman  0.4...   \n",
      "hse                       r        CI95%\n",
      "spearman  0.50...   \n",
      "hsv                       r         CI95%\n",
      "spearman  0.5...   \n",
      "hsd                       r         CI95%\n",
      "spearman  0.4...   \n",
      "midx                      r           CI95%\n",
      "spearman -0...   \n",
      "\n",
      "group                                               groupB  \\\n",
      "feature                                           bl_ratio   \n",
      "cc                        r        CI95%\n",
      "spearman  0.19...   \n",
      "coco                      r        CI95%\n",
      "spearman  0.19...   \n",
      "hse                       r         CI95%\n",
      "spearman  0.4...   \n",
      "hsv                       r         CI95%\n",
      "spearman  0.4...   \n",
      "hsd                       r         CI95%\n",
      "spearman  0.2...   \n",
      "midx                      r           CI95%\n",
      "spearman -0...   \n",
      "\n",
      "group                                               groupC  \n",
      "feature                                           bl_ratio  \n",
      "cc                        r           CI95%\n",
      "spearman -0...  \n",
      "coco                      r           CI95%\n",
      "spearman -0...  \n",
      "hse                       r          CI95%\n",
      "spearman -0....  \n",
      "hsv                       r          CI95%\n",
      "spearman -0....  \n",
      "hsd                       r           CI95%\n",
      "spearman -0...  \n",
      "midx                      r         CI95%\n",
      "spearman  0.2...  \n"
     ]
    }
   ],
   "source": [
    "def calculate_correlations(dataframes, metrics, method='pearson', return_full=False):\n",
    "    \"\"\"\n",
    "    Calculate either Pearson or Spearman correlations for 'nobl' and 'bl_ratio' metrics across groups.\n",
    "\n",
    "    Parameters:\n",
    "    - dataframes: dict, nested dictionary of dataframes for each (group, prefix) pair\n",
    "    - metrics: list, list of metrics to calculate correlations for\n",
    "    - method: str, either 'pearson' or 'spearman'\n",
    "    - return_full: bool, if True, returns the full correlation results instead of just the r value\n",
    "\n",
    "    Returns:\n",
    "    - DataFrame with multi-level columns for each group and feature, with correlation coefficients or full results\n",
    "    \"\"\"\n",
    "    if method != 'pearson' and method != 'spearman':\n",
    "        raise ValueError(\"Method must be 'pearson' or 'spearman'\")\n",
    "    results = {}\n",
    "\n",
    "    # Loop through each prefix and its associated dataframes\n",
    "    for prefix, dfs in dataframes.items():\n",
    "        for group_name, df in dfs.items():\n",
    "            group_results = []\n",
    "            \n",
    "            for metric in metrics:\n",
    "                # Ensure the metric and prefix are treated as Series\n",
    "                x = df[metric].values  # Convert to 1D numpy array for the metric\n",
    "                y = df[prefix].values  # Convert to 1D numpy array for the prefix\n",
    "                \n",
    "                correlation = pg.corr(x=x, y=y, method=method)\n",
    "                \n",
    "                if return_full:\n",
    "                    # Append full correlation result\n",
    "                    group_results.append(correlation[['r', 'CI95%']])\n",
    "                else:\n",
    "                    # Extract only the correlation value (r)\n",
    "                    r_value = correlation['r'].values[0]\n",
    "                    group_results.append(r_value)\n",
    "            \n",
    "            # Store results with a multi-indexed Series for the group and prefix\n",
    "            results[(group_name, prefix)] = pd.Series(group_results, index=metrics)\n",
    "\n",
    "    # Convert results dictionary to a DataFrame with multi-level columns\n",
    "    result_df = pd.DataFrame(results)\n",
    "    \n",
    "    # Set multi-level columns with first level as group and second level as 'nobl' or 'bl_ratio'\n",
    "    result_df.columns.names = ['group', 'feature']\n",
    "    \n",
    "    return result_df\n"
   ]
  },
  {
   "cell_type": "code",
   "execution_count": null,
   "metadata": {},
   "outputs": [],
   "source": [
    "dataframes = {\n",
    "    'nobl': {\n",
    "        'groupA': nobl_subset_df,\n",
    "        'groupB': nobl_subset_df_3_40,\n",
    "        'groupC': nobl_subset_df_3_40_with_non_zero_bl\n",
    "    },\n",
    "    'bl_ratio': {\n",
    "        'groupA': robl_subset_df,\n",
    "        'groupB': robl_subset_df_3_40,\n",
    "        'groupC': robl_subset_df_3_40_with_non_zero_bl\n",
    "    }\n",
    "}\n",
    "metrics = ['loc', 'cc', 'coco', 'hse', 'hsv', 'hsd', 'midx', 'nocl']\n",
    "\n",
    "# Calculate Pearson correlation\n",
    "pearson_corr_result = calculate_correlations(dataframes, metrics, method='pearson')\n",
    "print(\"Pearson Correlation:\")\n",
    "print(pearson_corr_result)\n",
    "\n",
    "# Calculate Spearman correlation\n",
    "spearman_corr_result = calculate_correlations(dataframes, metrics, method='spearman')\n",
    "print(\"\\nSpearman Correlation:\")\n",
    "print(spearman_corr_result)"
   ]
  },
  {
   "cell_type": "markdown",
   "metadata": {},
   "source": [
    "### Generate latex result tables"
   ]
  },
  {
   "cell_type": "code",
   "execution_count": 47,
   "metadata": {},
   "outputs": [
    {
     "name": "stdout",
     "output_type": "stream",
     "text": [
      "\\mt{LoC} & \\ul{0.73} & 0.17 & \\ul{0.56} & 0.19 & \\ul{0.50} & \\ul{-0.50} \\\\\n",
      "\\mt{CC} & 0.36 & 0.10 & 0.28 & 0.06 & 0.21 & -0.33 \\\\\n",
      "\\mt{CoCo} & 0.30 & 0.07 & 0.30 & 0.06 & 0.19 & -0.35 \\\\\n",
      "\\mt{HSE} & 0.33 & 0.03 & \\ul{0.46} & 0.16 & 0.37 & -0.27 \\\\\n",
      "\\mt{HSV} & \\ul{0.58} & 0.12 & \\ul{0.54} & 0.21 & \\ul{0.45} & -0.37 \\\\\n",
      "\\mt{HSD} & \\ul{0.52} & 0.22 & 0.35 & 0.13 & 0.26 & -0.30 \\\\\n",
      "\\mt{MIDX} & \\ul{-0.58} & -0.09 & -0.26 & -0.06 & -0.29 & 0.12 \\\\\n",
      "\\mt{NCL} & \\ul{0.57} & 0.21 & \\ul{0.42} & 0.25 & \\ul{0.41} & 0.13 \\\\\n",
      "\n"
     ]
    }
   ],
   "source": [
    "def format_correlation_table(df, underline_threshold=0.4):\n",
    "    # Define the desired column order for groups and features\n",
    "    ordered_columns = [\n",
    "        ('groupA', 'nobl'), ('groupA', 'bl_ratio'),\n",
    "        ('groupB', 'nobl'), ('groupB', 'bl_ratio'),\n",
    "        ('groupC', 'nobl'), ('groupC', 'bl_ratio')\n",
    "    ]\n",
    "    \n",
    "    # Reorder DataFrame columns to match the desired order\n",
    "    df = df[ordered_columns]\n",
    "\n",
    "    # Mapping for metric names to LaTeX \\mt{} format with case sensitivity\n",
    "    metric_mapping = {\n",
    "        'cc': 'CC',\n",
    "        'coco': 'CoCo',\n",
    "        'hse': 'HSE',\n",
    "        'hsv': 'HSV',\n",
    "        'hsd': 'HSD',\n",
    "        'midx': 'MIDX',\n",
    "        'nocl': 'NCL',\n",
    "        'loc': 'LoC'\n",
    "    }\n",
    "    \n",
    "    # Start building the LaTeX table string\n",
    "    table_string = \"\"\n",
    "    \n",
    "    # Loop over each metric (index) in the DataFrame\n",
    "    for metric in df.index:\n",
    "        # Use the mapped name for LaTeX formatting, if available\n",
    "        metric_latex = metric_mapping.get(metric.lower(), metric)\n",
    "        row = f\"\\\\mt{{{metric_latex}}} \"\n",
    "        \n",
    "        # Loop over each (group, feature) pair in the ordered columns\n",
    "        for (group, feature) in ordered_columns:\n",
    "            # Get the correlation value for the current metric, group, and feature\n",
    "            value = df.loc[metric, (group, feature)]\n",
    "            \n",
    "            # Check if value exceeds underline threshold and format accordingly\n",
    "            if abs(value) > underline_threshold:\n",
    "                row += f\"& \\\\ul{{{value:.2f}}} \"\n",
    "            else:\n",
    "                row += f\"& {value:.2f} \"\n",
    "        \n",
    "        # End the row with a newline character and add it to the table string\n",
    "        table_string += row + \"\\\\\\\\\\n\"\n",
    "\n",
    "    return table_string\n"
   ]
  },
  {
   "cell_type": "code",
   "execution_count": 49,
   "metadata": {},
   "outputs": [
    {
     "name": "stdout",
     "output_type": "stream",
     "text": [
      "\\mt{LoC} & \\ul{0.73} & 0.17 & \\ul{0.56} & 0.19 & \\ul{0.50} & \\ul{-0.50} \\\\\n",
      "\\mt{CC} & 0.36 & 0.10 & 0.28 & 0.06 & 0.21 & -0.33 \\\\\n",
      "\\mt{CoCo} & 0.30 & 0.07 & 0.30 & 0.06 & 0.19 & -0.35 \\\\\n",
      "\\mt{HSE} & 0.33 & 0.03 & \\ul{0.46} & 0.16 & 0.37 & -0.27 \\\\\n",
      "\\mt{HSV} & \\ul{0.58} & 0.12 & \\ul{0.54} & 0.21 & \\ul{0.45} & -0.37 \\\\\n",
      "\\mt{HSD} & \\ul{0.52} & 0.22 & 0.35 & 0.13 & 0.26 & -0.30 \\\\\n",
      "\\mt{MIDX} & \\ul{-0.58} & -0.09 & -0.26 & -0.06 & -0.29 & 0.12 \\\\\n",
      "\\mt{NCL} & \\ul{0.57} & 0.21 & \\ul{0.42} & 0.25 & \\ul{0.41} & 0.13 \\\\\n",
      "\n"
     ]
    }
   ],
   "source": [
    "# Generate the formatted table string\n",
    "table_string = format_correlation_table(pearson_corr_result)\n",
    "print(table_string)"
   ]
  },
  {
   "cell_type": "code",
   "execution_count": 50,
   "metadata": {},
   "outputs": [
    {
     "name": "stdout",
     "output_type": "stream",
     "text": [
      "\\mt{LoC} & \\ul{0.55} & \\ul{0.56} & \\ul{0.51} & \\ul{0.42} & \\ul{0.51} & \\ul{-0.62} \\\\\n",
      "\\mt{CC} & \\ul{0.45} & \\ul{0.43} & 0.27 & 0.20 & 0.24 & \\ul{-0.43} \\\\\n",
      "\\mt{CoCo} & \\ul{0.44} & \\ul{0.42} & 0.26 & 0.19 & 0.22 & \\ul{-0.45} \\\\\n",
      "\\mt{HSE} & \\ul{0.50} & \\ul{0.51} & \\ul{0.49} & \\ul{0.41} & \\ul{0.46} & \\ul{-0.49} \\\\\n",
      "\\mt{HSV} & \\ul{0.51} & \\ul{0.51} & \\ul{0.52} & \\ul{0.44} & \\ul{0.47} & \\ul{-0.49} \\\\\n",
      "\\mt{HSD} & \\ul{0.42} & \\ul{0.42} & 0.34 & 0.27 & 0.31 & -0.38 \\\\\n",
      "\\mt{MIDX} & -0.39 & -0.33 & -0.27 & -0.19 & -0.35 & 0.28 \\\\\n",
      "\\mt{NCL} & \\ul{0.40} & \\ul{0.40} & 0.34 & 0.29 & 0.32 & -0.02 \\\\\n",
      "\n"
     ]
    }
   ],
   "source": [
    "# Generate the formatted table string\n",
    "table_string = format_correlation_table(spearman_corr_result)\n",
    "print(table_string)"
   ]
  }
 ],
 "metadata": {
  "kernelspec": {
   "display_name": ".venv",
   "language": "python",
   "name": "python3"
  },
  "language_info": {
   "codemirror_mode": {
    "name": "ipython",
    "version": 3
   },
   "file_extension": ".py",
   "mimetype": "text/x-python",
   "name": "python",
   "nbconvert_exporter": "python",
   "pygments_lexer": "ipython3",
   "version": "3.11.7"
  }
 },
 "nbformat": 4,
 "nbformat_minor": 2
}
